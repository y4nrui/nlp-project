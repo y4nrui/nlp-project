{
  "nbformat": 4,
  "nbformat_minor": 0,
  "metadata": {
    "colab": {
      "name": "preprocessing",
      "provenance": [],
      "collapsed_sections": [
        "xxZ6s71ryfrY",
        "YYpOhQTbyohw",
        "WuzkwdxX_iM4"
      ],
      "toc_visible": true
    },
    "kernelspec": {
      "name": "python3",
      "display_name": "Python 3"
    }
  },
  "cells": [
    {
      "cell_type": "markdown",
      "metadata": {
        "id": "GuOtEcHwq4w-"
      },
      "source": [
        "# CONNECTING GOOGLE DRIVE"
      ]
    },
    {
      "cell_type": "code",
      "metadata": {
        "colab": {
          "base_uri": "https://localhost:8080/"
        },
        "id": "xXdvxv_wqN6u",
        "outputId": "ecae1dd1-7141-4b16-a5c2-8990a1674af2"
      },
      "source": [
        "from google.colab import drive\n",
        "drive.mount(\"/content/drive\")"
      ],
      "execution_count": null,
      "outputs": [
        {
          "output_type": "stream",
          "text": [
            "Drive already mounted at /content/drive; to attempt to forcibly remount, call drive.mount(\"/content/drive\", force_remount=True).\n"
          ],
          "name": "stdout"
        }
      ]
    },
    {
      "cell_type": "markdown",
      "metadata": {
        "id": "5BI-K0_srAPt"
      },
      "source": [
        "#PROJECT"
      ]
    },
    {
      "cell_type": "code",
      "metadata": {
        "colab": {
          "base_uri": "https://localhost:8080/"
        },
        "id": "SiSkG9M_sBDw",
        "outputId": "8d883e61-ac05-438b-9cce-3d90efc4a332"
      },
      "source": [
        "# IMPORTING TEXT PREPROCESSING LIBRARIES\n",
        "\n",
        "# download and import nltk packages\n",
        "import nltk\n",
        "# downloading nltk packages\n",
        "nltk.download('wordnet')\n",
        "nltk.download('punkt')\n",
        "nltk.download('stopwords')\n",
        "from nltk.corpus import stopwords\n",
        "from nltk.tokenize import word_tokenize\n",
        "from nltk.stem import WordNetLemmatizer\n",
        "\n",
        "# download and import spaCy packages\n",
        "!pip install -U pip setuptools wheel\n",
        "!pip install -U spacy\n",
        "!python -m spacy download en_core_web_sm\n",
        "import spacy\n",
        "from spacy.tokenizer import Tokenizer\n",
        "from spacy.lang.en import English\n",
        "# nlp = English()\n",
        "nlp = spacy.load(\"en_core_web_sm\")\n",
        "\n",
        "\n",
        "contractions = {\n",
        "    \"ain't\": \"is not\", \"aren't\": \"are not\", \"can't\": \"cannot\", \"can't've\": \"cannot have\", \"'cause\": \"because\",\n",
        "    \"could've\": \"could have\", \"couldn't\": \"could not\", \"couldn't've\": \"could not have\", \"didn't\": \"did not\", \n",
        "    \"doesn't\": \"does not\", \"don't\": \"do not\", \"hadn't\": \"had not\", \"hadn't've\": \"had not have\",\n",
        "    \"hasn't\": \"has not\", \"haven't\": \"have not\", \"he'd\": \"he had\", \"he'd've\": \"he would have\", \"he'll\": \"he will\", \"he'll've\": \"he will have\",\n",
        "    \"he's\": \"he is\", \"how'd\": \"how did\", \"how'd'y\": \"how do you\", \"how'll\": \"how will\", \"how's\": \"how is\", \"I'd\": \"I would\",\n",
        "    \"I'd've\": \"I would have\", \"I'll\": \"I will\", \"I'll've\": \"I will have\", \"I'm\": \"I am\", \"I've\": \"I have\", \"isn't\": \"is not\",\n",
        "    \"it'd\": \"it would\", \"it'd've\": \"it would have\", \"it'll\": \"it will\", \"it'll've\": \"it will have\", \"it's\": \"it is\", \"let's\": \"let us\",\n",
        "    \"ma'am\": \"madam\", \"mayn't\": \"may not\", \"might've\": \"might have\", \"mightn't\": \"might not\", \"mightn't've\": \"might not have\",\n",
        "    \"must've\": \"must have\", \"mustn't\": \"must not\", \"mustn't've\": \"must not have\", \"needn't\": \"need not\", \"needn't've\": \"need not have\", \n",
        "    \"o'clock\": \"of the clock\", \"oughtn't\": \"ought not\", \"oughtn't've\": \"ought not have\", \"shan't\": \"shall not\", \"sha'n't\": \"shall not\",\n",
        "    \"shan't've\": \"shall not have\", \"she'd\": \"she would\", \"she'd've\": \"she would have\", \"she'll\": \"she will\", \"she'll've\": \"she will have\", \"she's\": \"she is\",\n",
        "    \"should've\": \"should have\", \"shouldn't\": \"should not\", \"shouldn't've\": \"should not have\", \"so've\": \"so have\", \"so's\": \"so is\",\n",
        "    \"that'd\": \"that had\", \"that'd've\": \"that would have\", \"that's\": \"that is\", \"there'd\": \"there would\", \"there'd've\": \"there would have\",\n",
        "    \"there's\": \"there is\", \"they'd\": \"they had\", \"they'd've\": \"they would have\", \"they'll\": \"they shall\", \"they'll've\": \" they will have\",\n",
        "    \"they're\": \"they are\", \"they've\": \"they have\", \"to've\": \"to have\", \"wasn't\": \"was not\", \"we'd\": \"we would\", \"we'd've\": \"we would have\",\n",
        "    \"we'll\": \"we will\", \"we'll've\": \"we will have\", \"we're\": \"we are\", \"we've\": \"we have\", \"weren't\": \"were not\", \"what'll\": \"what will\", \"what'll've\": \"what shall have\",\n",
        "    \"what're\": \"what are\", \"what's\": \"what has\", \"what've\": \"what have\", \"when's\": \"when has\", \"when've\": \"when have\", \"where'd\": \"where did\",\n",
        "    \"where's\": \"where has\", \"where've\": \"where have\", \"who'll\": \"who shall\", \"who'll've\": \"who will have\", \"who's\": \"who has\", \"who've\": \"who have\",\n",
        "    \"why's\": \"why has\", \"why've\": \"why have\", \"will've\": \"will have\", \"won't\": \"will not\", \"won't've\": \"will not have\", \"would've\": \"would have\",\n",
        "    \"wouldn't\": \"would not\", \"wouldn't've\": \"would not have\", \"y'all\": \"you all\", \"y'all'd\": \"you all would\", \"y'all'd've\": \"you all would have\",\n",
        "    \"y'all're\": \"you all are\", \"y'all've\": \"you all have\", \"you'd\": \"you had\", \"you'd've\": \"you would have\", \"you'll\": \"you will\",\n",
        "    \"you'll've\": \"you will have\", \"you're\": \"you are\", \"you've\": \"you have\"\n",
        "}"
      ],
      "execution_count": null,
      "outputs": [
        {
          "output_type": "stream",
          "text": [
            "[nltk_data] Downloading package wordnet to /root/nltk_data...\n",
            "[nltk_data]   Package wordnet is already up-to-date!\n",
            "[nltk_data] Downloading package punkt to /root/nltk_data...\n",
            "[nltk_data]   Package punkt is already up-to-date!\n",
            "[nltk_data] Downloading package stopwords to /root/nltk_data...\n",
            "[nltk_data]   Package stopwords is already up-to-date!\n",
            "Requirement already satisfied: pip in /usr/local/lib/python3.7/dist-packages (21.0.1)\n",
            "Requirement already satisfied: setuptools in /usr/local/lib/python3.7/dist-packages (54.1.2)\n",
            "Requirement already satisfied: wheel in /usr/local/lib/python3.7/dist-packages (0.36.2)\n",
            "Requirement already satisfied: spacy in /usr/local/lib/python3.7/dist-packages (3.0.5)\n",
            "Requirement already satisfied: murmurhash<1.1.0,>=0.28.0 in /usr/local/lib/python3.7/dist-packages (from spacy) (1.0.5)\n",
            "Requirement already satisfied: pathy>=0.3.5 in /usr/local/lib/python3.7/dist-packages (from spacy) (0.4.0)\n",
            "Requirement already satisfied: tqdm<5.0.0,>=4.38.0 in /usr/local/lib/python3.7/dist-packages (from spacy) (4.41.1)\n",
            "Requirement already satisfied: setuptools in /usr/local/lib/python3.7/dist-packages (from spacy) (54.1.2)\n",
            "Requirement already satisfied: requests<3.0.0,>=2.13.0 in /usr/local/lib/python3.7/dist-packages (from spacy) (2.23.0)\n",
            "Requirement already satisfied: spacy-legacy<3.1.0,>=3.0.0 in /usr/local/lib/python3.7/dist-packages (from spacy) (3.0.1)\n",
            "Requirement already satisfied: numpy>=1.15.0 in /usr/local/lib/python3.7/dist-packages (from spacy) (1.19.5)\n",
            "Requirement already satisfied: packaging>=20.0 in /usr/local/lib/python3.7/dist-packages (from spacy) (20.9)\n",
            "Requirement already satisfied: preshed<3.1.0,>=3.0.2 in /usr/local/lib/python3.7/dist-packages (from spacy) (3.0.5)\n",
            "Requirement already satisfied: importlib-metadata>=0.20 in /usr/local/lib/python3.7/dist-packages (from spacy) (3.7.0)\n",
            "Requirement already satisfied: typing-extensions<4.0.0.0,>=3.7.4 in /usr/local/lib/python3.7/dist-packages (from spacy) (3.7.4.3)\n",
            "Requirement already satisfied: typer<0.4.0,>=0.3.0 in /usr/local/lib/python3.7/dist-packages (from spacy) (0.3.2)\n",
            "Requirement already satisfied: wasabi<1.1.0,>=0.8.1 in /usr/local/lib/python3.7/dist-packages (from spacy) (0.8.2)\n",
            "Requirement already satisfied: catalogue<2.1.0,>=2.0.1 in /usr/local/lib/python3.7/dist-packages (from spacy) (2.0.1)\n",
            "Requirement already satisfied: srsly<3.0.0,>=2.4.0 in /usr/local/lib/python3.7/dist-packages (from spacy) (2.4.0)\n",
            "Requirement already satisfied: blis<0.8.0,>=0.4.0 in /usr/local/lib/python3.7/dist-packages (from spacy) (0.4.1)\n",
            "Requirement already satisfied: pydantic<1.8.0,>=1.7.1 in /usr/local/lib/python3.7/dist-packages (from spacy) (1.7.3)\n",
            "Requirement already satisfied: thinc<8.1.0,>=8.0.2 in /usr/local/lib/python3.7/dist-packages (from spacy) (8.0.2)\n",
            "Requirement already satisfied: jinja2 in /usr/local/lib/python3.7/dist-packages (from spacy) (2.11.3)\n",
            "Requirement already satisfied: cymem<2.1.0,>=2.0.2 in /usr/local/lib/python3.7/dist-packages (from spacy) (2.0.5)\n",
            "Requirement already satisfied: zipp>=0.5 in /usr/local/lib/python3.7/dist-packages (from importlib-metadata>=0.20->spacy) (3.4.1)\n",
            "Requirement already satisfied: pyparsing>=2.0.2 in /usr/local/lib/python3.7/dist-packages (from packaging>=20.0->spacy) (2.4.7)\n",
            "Requirement already satisfied: smart-open<4.0.0,>=2.2.0 in /usr/local/lib/python3.7/dist-packages (from pathy>=0.3.5->spacy) (3.0.0)\n",
            "Requirement already satisfied: chardet<4,>=3.0.2 in /usr/local/lib/python3.7/dist-packages (from requests<3.0.0,>=2.13.0->spacy) (3.0.4)\n",
            "Requirement already satisfied: urllib3!=1.25.0,!=1.25.1,<1.26,>=1.21.1 in /usr/local/lib/python3.7/dist-packages (from requests<3.0.0,>=2.13.0->spacy) (1.24.3)\n",
            "Requirement already satisfied: certifi>=2017.4.17 in /usr/local/lib/python3.7/dist-packages (from requests<3.0.0,>=2.13.0->spacy) (2020.12.5)\n",
            "Requirement already satisfied: idna<3,>=2.5 in /usr/local/lib/python3.7/dist-packages (from requests<3.0.0,>=2.13.0->spacy) (2.10)\n",
            "Requirement already satisfied: click<7.2.0,>=7.1.1 in /usr/local/lib/python3.7/dist-packages (from typer<0.4.0,>=0.3.0->spacy) (7.1.2)\n",
            "Requirement already satisfied: MarkupSafe>=0.23 in /usr/local/lib/python3.7/dist-packages (from jinja2->spacy) (1.1.1)\n",
            "2021-03-15 09:06:11.020115: I tensorflow/stream_executor/platform/default/dso_loader.cc:49] Successfully opened dynamic library libcudart.so.11.0\n",
            "Collecting en-core-web-sm==3.0.0\n",
            "  Downloading https://github.com/explosion/spacy-models/releases/download/en_core_web_sm-3.0.0/en_core_web_sm-3.0.0-py3-none-any.whl (13.7 MB)\n",
            "\u001b[K     |████████████████████████████████| 13.7 MB 5.5 MB/s \n",
            "\u001b[?25hRequirement already satisfied: spacy<3.1.0,>=3.0.0 in /usr/local/lib/python3.7/dist-packages (from en-core-web-sm==3.0.0) (3.0.5)\n",
            "Requirement already satisfied: pathy>=0.3.5 in /usr/local/lib/python3.7/dist-packages (from spacy<3.1.0,>=3.0.0->en-core-web-sm==3.0.0) (0.4.0)\n",
            "Requirement already satisfied: murmurhash<1.1.0,>=0.28.0 in /usr/local/lib/python3.7/dist-packages (from spacy<3.1.0,>=3.0.0->en-core-web-sm==3.0.0) (1.0.5)\n",
            "Requirement already satisfied: numpy>=1.15.0 in /usr/local/lib/python3.7/dist-packages (from spacy<3.1.0,>=3.0.0->en-core-web-sm==3.0.0) (1.19.5)\n",
            "Requirement already satisfied: typing-extensions<4.0.0.0,>=3.7.4 in /usr/local/lib/python3.7/dist-packages (from spacy<3.1.0,>=3.0.0->en-core-web-sm==3.0.0) (3.7.4.3)\n",
            "Requirement already satisfied: jinja2 in /usr/local/lib/python3.7/dist-packages (from spacy<3.1.0,>=3.0.0->en-core-web-sm==3.0.0) (2.11.3)\n",
            "Requirement already satisfied: thinc<8.1.0,>=8.0.2 in /usr/local/lib/python3.7/dist-packages (from spacy<3.1.0,>=3.0.0->en-core-web-sm==3.0.0) (8.0.2)\n",
            "Requirement already satisfied: spacy-legacy<3.1.0,>=3.0.0 in /usr/local/lib/python3.7/dist-packages (from spacy<3.1.0,>=3.0.0->en-core-web-sm==3.0.0) (3.0.1)\n",
            "Requirement already satisfied: packaging>=20.0 in /usr/local/lib/python3.7/dist-packages (from spacy<3.1.0,>=3.0.0->en-core-web-sm==3.0.0) (20.9)\n",
            "Requirement already satisfied: setuptools in /usr/local/lib/python3.7/dist-packages (from spacy<3.1.0,>=3.0.0->en-core-web-sm==3.0.0) (54.1.2)\n",
            "Requirement already satisfied: tqdm<5.0.0,>=4.38.0 in /usr/local/lib/python3.7/dist-packages (from spacy<3.1.0,>=3.0.0->en-core-web-sm==3.0.0) (4.41.1)\n",
            "Requirement already satisfied: importlib-metadata>=0.20 in /usr/local/lib/python3.7/dist-packages (from spacy<3.1.0,>=3.0.0->en-core-web-sm==3.0.0) (3.7.0)\n",
            "Requirement already satisfied: typer<0.4.0,>=0.3.0 in /usr/local/lib/python3.7/dist-packages (from spacy<3.1.0,>=3.0.0->en-core-web-sm==3.0.0) (0.3.2)\n",
            "Requirement already satisfied: wasabi<1.1.0,>=0.8.1 in /usr/local/lib/python3.7/dist-packages (from spacy<3.1.0,>=3.0.0->en-core-web-sm==3.0.0) (0.8.2)\n",
            "Requirement already satisfied: requests<3.0.0,>=2.13.0 in /usr/local/lib/python3.7/dist-packages (from spacy<3.1.0,>=3.0.0->en-core-web-sm==3.0.0) (2.23.0)\n",
            "Requirement already satisfied: srsly<3.0.0,>=2.4.0 in /usr/local/lib/python3.7/dist-packages (from spacy<3.1.0,>=3.0.0->en-core-web-sm==3.0.0) (2.4.0)\n",
            "Requirement already satisfied: blis<0.8.0,>=0.4.0 in /usr/local/lib/python3.7/dist-packages (from spacy<3.1.0,>=3.0.0->en-core-web-sm==3.0.0) (0.4.1)\n",
            "Requirement already satisfied: preshed<3.1.0,>=3.0.2 in /usr/local/lib/python3.7/dist-packages (from spacy<3.1.0,>=3.0.0->en-core-web-sm==3.0.0) (3.0.5)\n",
            "Requirement already satisfied: pydantic<1.8.0,>=1.7.1 in /usr/local/lib/python3.7/dist-packages (from spacy<3.1.0,>=3.0.0->en-core-web-sm==3.0.0) (1.7.3)\n",
            "Requirement already satisfied: cymem<2.1.0,>=2.0.2 in /usr/local/lib/python3.7/dist-packages (from spacy<3.1.0,>=3.0.0->en-core-web-sm==3.0.0) (2.0.5)\n",
            "Requirement already satisfied: catalogue<2.1.0,>=2.0.1 in /usr/local/lib/python3.7/dist-packages (from spacy<3.1.0,>=3.0.0->en-core-web-sm==3.0.0) (2.0.1)\n",
            "Requirement already satisfied: zipp>=0.5 in /usr/local/lib/python3.7/dist-packages (from importlib-metadata>=0.20->spacy<3.1.0,>=3.0.0->en-core-web-sm==3.0.0) (3.4.1)\n",
            "Requirement already satisfied: pyparsing>=2.0.2 in /usr/local/lib/python3.7/dist-packages (from packaging>=20.0->spacy<3.1.0,>=3.0.0->en-core-web-sm==3.0.0) (2.4.7)\n",
            "Requirement already satisfied: smart-open<4.0.0,>=2.2.0 in /usr/local/lib/python3.7/dist-packages (from pathy>=0.3.5->spacy<3.1.0,>=3.0.0->en-core-web-sm==3.0.0) (3.0.0)\n",
            "Requirement already satisfied: urllib3!=1.25.0,!=1.25.1,<1.26,>=1.21.1 in /usr/local/lib/python3.7/dist-packages (from requests<3.0.0,>=2.13.0->spacy<3.1.0,>=3.0.0->en-core-web-sm==3.0.0) (1.24.3)\n",
            "Requirement already satisfied: idna<3,>=2.5 in /usr/local/lib/python3.7/dist-packages (from requests<3.0.0,>=2.13.0->spacy<3.1.0,>=3.0.0->en-core-web-sm==3.0.0) (2.10)\n",
            "Requirement already satisfied: chardet<4,>=3.0.2 in /usr/local/lib/python3.7/dist-packages (from requests<3.0.0,>=2.13.0->spacy<3.1.0,>=3.0.0->en-core-web-sm==3.0.0) (3.0.4)\n",
            "Requirement already satisfied: certifi>=2017.4.17 in /usr/local/lib/python3.7/dist-packages (from requests<3.0.0,>=2.13.0->spacy<3.1.0,>=3.0.0->en-core-web-sm==3.0.0) (2020.12.5)\n",
            "Requirement already satisfied: click<7.2.0,>=7.1.1 in /usr/local/lib/python3.7/dist-packages (from typer<0.4.0,>=0.3.0->spacy<3.1.0,>=3.0.0->en-core-web-sm==3.0.0) (7.1.2)\n",
            "Requirement already satisfied: MarkupSafe>=0.23 in /usr/local/lib/python3.7/dist-packages (from jinja2->spacy<3.1.0,>=3.0.0->en-core-web-sm==3.0.0) (1.1.1)\n",
            "\u001b[38;5;2m✔ Download and installation successful\u001b[0m\n",
            "You can now load the package via spacy.load('en_core_web_sm')\n"
          ],
          "name": "stdout"
        }
      ]
    },
    {
      "cell_type": "code",
      "metadata": {
        "id": "dyO8RKJmCltw"
      },
      "source": [
        "stopwords_to_be_excluded = ['US'] # list of words for spacy to keep if they're a stopword\n",
        "\n",
        "# mappings for acronyms\n",
        "key_acronyms_mapping = {\"u.s.\": \"US\", \"l.a.\": \"LA\", \"w.h.\": \"WH\", \"g20\": \"gtwenty\",\n",
        "                        \"g-20\": \"gtwenty\", \"d.c.\": \"DC\", \"u.k.\": \"UK\", \"n.c.\": \"NC\", \"s.c.\": \"SC\"} \n",
        "\n",
        "# IMPORTING PICKLE AND RELEVANT PICKLE FILES\n",
        "import pickle\n",
        "drive_directory = 'drive/My Drive/data/'\n",
        "dataset = 'real-and-fake-news/'\n",
        "us_to_uk_mapping = pickle.load(open(drive_directory + dataset + \"us_gb_updated.pkl\", \"rb\"))\n",
        "\n",
        "\n",
        "# IMPORTING OTHER RELEVANT LIBRARIES\n",
        "import pandas as pd\n",
        "import matplotlib.pyplot as plt\n",
        "import seaborn as sns\n",
        "import numpy as np\n",
        "import pandas as pd\n",
        "from math import sqrt  \n",
        "import os\n",
        "import io\n",
        "import random\n",
        "import re\n",
        "import time\n",
        "\n",
        "\n",
        "# IMPORTING SKLEARN PACKAGES\n",
        "from sklearn import model_selection\n",
        "from sklearn import metrics\n",
        "from sklearn.linear_model import SGDRegressor\n",
        "from sklearn.linear_model import LinearRegression\n",
        "from sklearn.ensemble import VotingRegressor\n",
        "from sklearn.ensemble import StackingRegressor \n",
        "from sklearn.neighbors import KNeighborsRegressor\n",
        "from sklearn.ensemble import RandomForestRegressor\n",
        "from sklearn.model_selection import GridSearchCV\n",
        "from sklearn.model_selection import RandomizedSearchCV\n",
        "from sklearn.model_selection import KFold, cross_val_score\n",
        "from sklearn.tree import DecisionTreeRegressor\n",
        "from sklearn import feature_selection\n",
        "from sklearn.model_selection import train_test_split\n",
        "from sklearn.model_selection import StratifiedShuffleSplit\n",
        "from sklearn.preprocessing import StandardScaler"
      ],
      "execution_count": null,
      "outputs": []
    },
    {
      "cell_type": "code",
      "metadata": {
        "id": "pbpJjHXUruUI"
      },
      "source": [
        "# IMPORTING DATA\n",
        "true_df = pd.read_csv(drive_directory + dataset + 'True.csv', encoding='utf-8')\n",
        "fake_df = pd.read_csv(drive_directory + dataset + 'Fake.csv', encoding='utf-8')"
      ],
      "execution_count": null,
      "outputs": []
    },
    {
      "cell_type": "markdown",
      "metadata": {
        "id": "sXRIsb2vydvq"
      },
      "source": [
        "## COMMON FUNCTIONS"
      ]
    },
    {
      "cell_type": "markdown",
      "metadata": {
        "id": "xxZ6s71ryfrY"
      },
      "source": [
        "### **(DISCONTINUED)** FUNCTION TO CLEAN TRUE.CSV TEXT COLUMN"
      ]
    },
    {
      "cell_type": "code",
      "metadata": {
        "colab": {
          "base_uri": "https://localhost:8080/"
        },
        "id": "ltCF4wSuXoof",
        "outputId": "be5d9e6f-dd1e-4ed6-bb25-d0b1671132f9"
      },
      "source": [
        "# test\n",
        "test1 = 'Trump Gets His A** Handed To Him By British Lawmakers For Lying About Rising Crime Rate In UK'\n",
        "test2 = \" Trump Jr. Goes Full Dumba** On Twitter By Promoting Wrong Day Of Virginia Election\"\n",
        "test3 = \" Over 500 NFL Players Plan To Tell Trump To F*** Off Today In The Best Way Possible\"\n",
        "\n",
        "print(word_tokenize(test1))\n",
        "print(word_tokenize(test2))\n",
        "print(word_tokenize(test3))"
      ],
      "execution_count": null,
      "outputs": [
        {
          "output_type": "stream",
          "text": [
            "['Trump', 'Gets', 'His', 'A**', 'Handed', 'To', 'Him', 'By', 'British', 'Lawmakers', 'For', 'Lying', 'About', 'Rising', 'Crime', 'Rate', 'In', 'UK']\n",
            "['Trump', 'Jr', '.', 'Goes', 'Full', 'Dumba**', 'On', 'Twitter', 'By', 'Promoting', 'Wrong', 'Day', 'Of', 'Virginia', 'Election']\n",
            "['Over', '500', 'NFL', 'Players', 'Plan', 'To', 'Tell', 'Trump', 'To', 'F***', 'Off', 'Today', 'In', 'The', 'Best', 'Way', 'Possible']\n"
          ],
          "name": "stdout"
        }
      ]
    },
    {
      "cell_type": "code",
      "metadata": {
        "colab": {
          "base_uri": "https://localhost:8080/"
        },
        "id": "ftMlxK3BqhCq",
        "outputId": "598d9336-ddeb-4468-a1e3-2b1be6185aee"
      },
      "source": [
        "# test\n",
        "text = \"God is Great! I won a lottery.\"\n",
        "start = time.time()\n",
        "print(word_tokenize(text))\n",
        "end = time.time()\n",
        "print(end-start)"
      ],
      "execution_count": null,
      "outputs": [
        {
          "output_type": "stream",
          "text": [
            "['God', 'is', 'Great', '!', 'I', 'won', 'a', 'lottery', '.']\n",
            "0.0013775825500488281\n"
          ],
          "name": "stdout"
        }
      ]
    },
    {
      "cell_type": "code",
      "metadata": {
        "colab": {
          "base_uri": "https://localhost:8080/"
        },
        "id": "k6RtXjKxXU3G",
        "outputId": "16847800-3db8-462a-f926-4d4fa2f1c20e"
      },
      "source": [
        "# test\n",
        "text = \"God is Great! I won a lottery.\"\n",
        "start = time.time()\n",
        "print(text.split())\n",
        "end = time.time()\n",
        "print(end-start)"
      ],
      "execution_count": null,
      "outputs": [
        {
          "output_type": "stream",
          "text": [
            "['God', 'is', 'Great!', 'I', 'won', 'a', 'lottery.']\n",
            "0.00015974044799804688\n"
          ],
          "name": "stdout"
        }
      ]
    },
    {
      "cell_type": "code",
      "metadata": {
        "id": "GbEMvbgCNoHs"
      },
      "source": [
        "def true_text_preprocessor(x):\n",
        "    '''\n",
        "    Using pure spaCy instead of NLTK for faster preprocessing. Apply this function onto 'text' column in True.csv.\n",
        "\n",
        "    Preprocessing steps:\n",
        "    ---------------------\n",
        "    1. Check if text is empty\n",
        "    2. Removal of source of article at the start of each text (for real news only)\n",
        "    3. Removal of words within brackets\n",
        "    4. Removal of punctuations and special characters and numbers\n",
        "    5. Removal of stop words\n",
        "    6. Tokenization and lemmatization of words\n",
        "    7. Converting US english to UK english\n",
        "    '''\n",
        "    try:\n",
        "        # Removal of source of article at the start of each text (for real news only)\n",
        "        try: # if there isn't any ' - ' in the text\n",
        "            x = x.split(\" - \", maxsplit=1) # separates the publisher and rest of the news article\n",
        "            if len(x[0]) > 100: # when the text has no publisher, the split at ' - ' won't separate a publisher\n",
        "                x = x[0] + x[1]\n",
        "            else: # if there's a publisher, return the text after the publisher\n",
        "                x = x[1]\n",
        "        except: \n",
        "            x = x\n",
        "\n",
        "        # Removal of words within brackets\n",
        "        x = re.sub(r\"[\\(\\[].*?[\\)\\]]\", \"\", x)\n",
        "\n",
        "        # removal of URLs\n",
        "        x = re.sub(r'https?:\\S+', '', x) # remove words containing \"https://....\"\n",
        "        x = re.sub(r'pic.twitter.com/[\\w]*', '', x) # remove words containing \"pic.twitter.com...\"\n",
        "\n",
        "        # Removal of punctuations and special characters\n",
        "        x = re.sub(r'[^\\w\\s]',' ',x) \n",
        "\n",
        "        # Removal of numbers\n",
        "        x = re.sub(r'\\d+', '', x)\n",
        "\n",
        "        # Removal of stop words\n",
        "        x = x.lower()\n",
        "        # text_tokens = word_tokenize(text)\n",
        "        # tokens_without_sw = [word for word in text_tokens if not word in stopwords.words()]\n",
        "        doc = nlp(x)\n",
        "        result = []\n",
        "        for token in doc: # iterate through each token in the text\n",
        "            if len(token.text.strip()) != 0: # prevent empty whitespace (caused by punctuations) from being stored in the result\n",
        "                if token.is_stop == False: # if token.text is not stopwords,\n",
        "                    if token.lemma_ in us_to_uk_mapping: #   if token.text is a US spelling word, convert to UK\n",
        "                        result.append(us_to_uk_mapping[token.lemma_]) # lemmatize and add into np.array\n",
        "                    else:\n",
        "                        result.append(token.lemma_)\n",
        "        \n",
        "        result_str = \" \".join(result)\n",
        "        return result_str\n",
        "\n",
        "    except: # if any error happens, the preprocessor will just return None instead of an error that kills the code runtime\n",
        "        return None"
      ],
      "execution_count": null,
      "outputs": []
    },
    {
      "cell_type": "markdown",
      "metadata": {
        "id": "YYpOhQTbyohw"
      },
      "source": [
        "### **(DISCONTINUED)**  FUNCTION TO CLEAN TRUE.CSV TITLE COLUMN"
      ]
    },
    {
      "cell_type": "code",
      "metadata": {
        "id": "nHJgKp_wqo7M"
      },
      "source": [
        "def true_title_preprocessor(x):\n",
        "    '''\n",
        "    Using pure spaCy instead of NLTK for faster preprocessing. Apply this function onto 'title' column in True.csv.\n",
        "\n",
        "    Preprocessing steps:\n",
        "    ---------------------\n",
        "    1. Check if text is empty\n",
        "    2. Removal of source of article at the start of each text (for real news only)\n",
        "    3. Removal of words within brackets\n",
        "    4. Removal of punctuations and special characters and numbers\n",
        "    5. Removal of stop words\n",
        "    6. Tokenization and lemmatization of words\n",
        "    7. Converting US english to UK english\n",
        "    '''\n",
        "    try:\n",
        "        # Removal of words within brackets\n",
        "        x = re.sub(r\"[\\(\\[].*?[\\)\\]]\", \"\", x)\n",
        "\n",
        "        # removal of URLs\n",
        "        x = re.sub(r'https?:\\S+', '', x) # remove words containing \"https://....\"\n",
        "        x = re.sub(r'pic.twitter.com/[\\w]*', '', x) # remove words containing \"pic.twitter.com...\"\n",
        "\n",
        "        # Removal of punctuations and special characters\n",
        "        x = re.sub(r'[^\\w\\s]',' ',x) \n",
        "\n",
        "        # Removal of numbers\n",
        "        x = re.sub(r'\\d+', '', x)\n",
        "\n",
        "        # Removal of stop words\n",
        "        x = x.lower() # convert to lowercase\n",
        "        doc = nlp(x) # initialising spaCy object\n",
        "        result = []\n",
        "        for token in doc: # iterate through each token in the text\n",
        "            if len(token.text.strip()) != 0: # prevent empty whitespace (caused by punctuations) from being stored in the result\n",
        "                if token.is_stop == False: # if token.text is not stopwords,\n",
        "                    if token.lemma_ in us_to_uk_mapping: #   if token.text is a US spelling word, convert to UK\n",
        "                        result.append(us_to_uk_mapping[token.lemma_]) # lemmatize and add into a list\n",
        "                    else:\n",
        "                        result.append(token.lemma_)\n",
        "        result_str = \" \".join(result)\n",
        "        return result_str\n",
        "\n",
        "    except: # if any error happens, the preprocessor will just return None instead of an error that kills the code runtime\n",
        "        return None"
      ],
      "execution_count": null,
      "outputs": []
    },
    {
      "cell_type": "markdown",
      "metadata": {
        "id": "-nJpAWcCy8a2"
      },
      "source": [
        "### **(DISCONTINUED)** FUNCTION TO CLEAN FAKE.CSV TITLE COLUMN"
      ]
    },
    {
      "cell_type": "markdown",
      "metadata": {
        "id": "NMPzv77GANkv"
      },
      "source": [
        "#### **(DISCONTINUED)** FUNCTION TO CLEAN FAKE TITLE COLUMN"
      ]
    },
    {
      "cell_type": "markdown",
      "metadata": {
        "id": "WuzkwdxX_iM4"
      },
      "source": [
        "#### **(DISCONTINUED)** CLEAN TEXT FUNCTION"
      ]
    },
    {
      "cell_type": "code",
      "metadata": {
        "id": "oxd4sJk0xbBF"
      },
      "source": [
        "def fake_title_preprocessor(x):\n",
        "    '''\n",
        "    Using pure spaCy instead of NLTK for faster preprocessing. Apply this function onto 'title' column.\n",
        "\n",
        "    Preprocessing steps:\n",
        "    ---------------------\n",
        "    1. Check if text is empty\n",
        "    2. Removal of source of article at the start of each text (for real news only)\n",
        "    3. Removal of words within brackets\n",
        "    4. Removal of punctuations and special characters and numbers\n",
        "    5. Removal of stop words\n",
        "    6. Tokenization and lemmatization of words\n",
        "    7. Converting US english to UK english\n",
        "    '''\n",
        "    try:\n",
        "        # removal of leading and trailing whitespace characters eg. '\\n', '\\r' \n",
        "        x = x.strip()\n",
        "\n",
        "        # Removal of words within brackets\n",
        "        x = re.sub(r\"[\\(\\[].*?[\\)\\]]\", \"\", x)\n",
        "\n",
        "        # removal of URLs\n",
        "        x = re.sub(r'https?:\\S+', '', x) # remove words containing \"https://....\"\n",
        "        x = re.sub(r'pic.twitter.com/[\\w]*', '', x) # remove words containing \"pic.twitter.com...\"\n",
        "\n",
        "        # Removal of punctuations and special characters, except asterisk (*) characters because of words like \"f**k\"\n",
        "        # Replaces the unwanted characters with an empty whitespace\n",
        "        x = re.sub(r'[^\\w\\s\\*]',' ',x) \n",
        "\n",
        "        # Removal of numbers\n",
        "        x = re.sub(r'\\d+', '', x)\n",
        "\n",
        "        # Uncensoring expletives\n",
        "        x = x.lower() # convert to lowercase\n",
        "        x = x.split() # split string into a list of tokens\n",
        "        for i in range(len(x)):\n",
        "            word = x[i]\n",
        "            if word in expletives_mapping_dict: # if word is an expletive\n",
        "                x[i] = expletives_mapping_dict[word] # replace censored expletive with uncensored expletive\n",
        "        x = \" \".join(x) # convert x back into string\n",
        "\n",
        "        # Removal of stop words, tokenisation and lemmatization, handling of us spelling words,\n",
        "        doc = nlp(x) # initialising spaCy object\n",
        "        result = []\n",
        "        for token in doc: # iterate through spaCy object: for each token in the text\n",
        "            if len(token.text.strip()) != 0: # prevent empty whitespace (caused by punctuations) from being stored in the result\n",
        "                if token.is_stop == False or : # if token.text is not stopwords,\n",
        "                    if token.lemma_ in us_to_uk_mapping: #   if token.text is a US spelling word, convert to UK\n",
        "                        result.append(us_to_uk_mapping[token.lemma_]) # lemmatize and add into np.array\n",
        "                    else:\n",
        "                        result.append(token.lemma_)\n",
        "        result_str = \" \".join(result)\n",
        "        return result_str\n",
        "\n",
        "    except: # if any error happens, the preprocessor will just return None instead of an error that kills the code runtime\n",
        "        return None"
      ],
      "execution_count": null,
      "outputs": []
    },
    {
      "cell_type": "code",
      "metadata": {
        "id": "FLGUUIC3B3LB",
        "colab": {
          "base_uri": "https://localhost:8080/"
        },
        "outputId": "2f0679d2-136a-4c17-d320-fc9d5097e377"
      },
      "source": [
        "# TEST OUTPUT OF fake_title_preprocessor\n",
        "test1 = 'Trump Gets His A** Handed To Him By British Lawmakers For Lying About Rising Crime Rate In UK'\n",
        "test2 = \" Trump Jr. Goes Full Dumba** On Twitter By Promoting Wrong Day Of Virginia Election\"\n",
        "test3 = \" Over 500 NFL Players Plan To Tell Trump To F*** Off Today In The Best Way Possible\"\n",
        "\n",
        "start = time.time()\n",
        "print(fake_title_preprocessor(test1))\n",
        "print(fake_title_preprocessor(test2))\n",
        "print(fake_title_preprocessor(test3))\n",
        "end = time.time()\n",
        "print('\\n')\n",
        "print(\"Time taken to process 3 titles: ***\", round(end-start, 5), '*** seconds')"
      ],
      "execution_count": null,
      "outputs": [
        {
          "output_type": "stream",
          "text": [
            "trump get ass hand british lawmaker lie rise crime rate uk\n",
            "trump jr go dumbass twitter promote wrong day virginia election\n",
            "nfl player plan tell trump fuck today good way possible\n",
            "\n",
            "\n",
            "Time taken to process 3 titles: *** 0.03006 *** seconds\n"
          ],
          "name": "stdout"
        }
      ]
    },
    {
      "cell_type": "markdown",
      "metadata": {
        "id": "IFlNNVxVzesP"
      },
      "source": [
        "### TEXT PREPROCESSING FUNCTION"
      ]
    },
    {
      "cell_type": "markdown",
      "metadata": {
        "id": "MUz_OWNkAFyD"
      },
      "source": [
        "#### DATA PREPARATION TO UNCENSOR EXPLETIVES"
      ]
    },
    {
      "cell_type": "code",
      "metadata": {
        "colab": {
          "base_uri": "https://localhost:8080/"
        },
        "id": "o6YoOdNqS5Gu",
        "outputId": "3ce9921d-5226-4f93-96d2-7e57c92f5794"
      },
      "source": [
        "# GET ALL EXPLETIVES IN FAKE NEWS DATAFRAME\n",
        "# output is a dictionary with:\n",
        "#   key => expletive\n",
        "#   value => index\n",
        "expletives = {}\n",
        "count=-1\n",
        "for x in fake_df['title'].to_numpy():\n",
        "    count+=1\n",
        "\n",
        "    # Removal of words within brackets\n",
        "    x = re.sub(r\"[\\(\\[].*?[\\)\\]]\", \"\", x)\n",
        "\n",
        "    # Removal of punctuations and special characters, except asterisk (*) characters because of words like \"f**k\"\n",
        "    x = re.sub(r'[^\\w\\s\\*]','',x) \n",
        "\n",
        "    # Removal of numbers\n",
        "    x = re.sub(r'\\d+', '', x)\n",
        "\n",
        "    x = x.lower()\n",
        "    x_list = x.split(\" \")\n",
        "\n",
        "    for token in x_list:\n",
        "        if \"*\" in token and token not in expletives:\n",
        "            expletives[token] = count\n",
        "\n",
        "print(expletives)\n",
        "\n",
        "# EXPORT EXPLETIVES TO CSV FILES\n",
        "# expletives_df = pd.DataFrame({'expletives': list(expletives.keys()))\n",
        "# expletives_df.to_csv('expletives.csv', index=None)"
      ],
      "execution_count": null,
      "outputs": [
        {
          "output_type": "stream",
          "text": [
            "{'a**': 9, 'f**ck': 47, 'sh*t': 51, 'p*ssy': 84, 'b**ner': 102, 'f*ck': 115, 'dumba**': 120, 'sh*tty': 151, 'b*tch': 211, 'n*gger': 214, 'f*cks': 215, 'motherf***er': 218, 'f*cking': 226, 'f**king': 276, 'n****r': 278, 'f***': 321, 'n*****s': 367, 'bullsh*t': 477, 'apesh**t': 515, 'f*****g': 550, 'f*cked': 708, 'c*ck': 724, 'a**es': 774, 'sh*tting': 844, 'a**s': 899, 'p*ss': 906, 'p*ssed': 909, 'p*ssing': 968, 'a**hole': 1034, 'f****ts': 1055, 'apesh*t': 1091, 'sh*ts': 1304, 'f***ed': 1349, 'sh**tting': 1358, 'n****rs': 1435, 'n*****': 1527, 'n***er': 1579, 's*it': 1596, 'chickensh*t': 1605, 's***s': 1663, 'pu**y': 1876, 'batsh*t': 1899, 'p***y': 2044, 'd*ck': 2188, 'f**ks': 2228, 's**t': 2302, 'f**k': 2643, 'racistasf*ck': 2982, 'stupidasf*ck': 3248, 'batsh**': 3489, 'b*tching': 3576, 'dumb*ss': 3615, 'b*tchslapped': 3660, 'pu**ygate': 4141, 'f***ing': 4248, 'sh*tless': 4536, 'a*s': 4587, 'pansya**': 5191, 'h*ll': 5422, 'bulls*it': 5573, 'f*ggots': 5596, 'clusterf*ck': 5651, 'f*ggot': 5695, 'sh*tcanned': 5848, 'n******': 6055, 'sh*tstain': 6165, 'dipsh*t': 6337, 'n***a': 6601, 'c**kblocking': 7085, 'p*rn': 7334, 'c*ckblocking': 7365, 'n***gers': 7493, 'f*cktheworld': 7644, 'sh*tshow': 7644, 'a**holes': 7931, 'whoopa**': 8476, 't*t': 8545, 'f*ckin': 8734, 'b**tard': 8751, 'bi*ch': 8755, 'd**ks': 8801, 'bad*ss': 8949, 'n*ggas': 9184, 'p*nis': 9316, 'lowerf**k': 9578, 'n***ers': 9603, 'sh*ta': 9628, 'bullsh*tits': 9819, 'motherf***king': 9915, 'motherf*cker': 10036, 'p*ssyhat': 10216, 'f*cker': 10243, 'bullsh*tpresident': 10532, 'b**ch': 10620, 'nowf*ck': 10821, 'scr*wed': 11298, '**': 11547, 'p*ssednbc': 11800, '*schedule': 11870, 'events*': 11870, 'p*ssyhats': 11896, '*******': 12516, 'sh*tand': 12595, 'sonofab*tch': 12845, 'd*king': 13015, 'c*cksucker': 13159, 'g**damned': 13660, 'b*stard': 13709, 'bast*rds': 14915, 'd*mn': 14974, 'f*king': 19930}\n"
          ],
          "name": "stdout"
        }
      ]
    },
    {
      "cell_type": "code",
      "metadata": {
        "colab": {
          "base_uri": "https://localhost:8080/",
          "height": 391
        },
        "id": "Nu23X1nB5uMt",
        "outputId": "9066ada9-5c49-43d3-9809-46c80df43def"
      },
      "source": [
        "# AFTER MANUALLY LABELLING THE EXPLETIVES (~111 VARIATIONS)\n",
        "# IMPORTING THE .CSV FILE BACK\n",
        "# IMPORT MAPPINGS OF EXPLETIVES CSV FILES\n",
        "expletives_mapping_df = pd.read_csv(drive_directory + dataset + 'expletives-corrected.csv', index_col=None)\n",
        "expletives_mapping_df"
      ],
      "execution_count": null,
      "outputs": [
        {
          "output_type": "execute_result",
          "data": {
            "text/html": [
              "<div>\n",
              "<style scoped>\n",
              "    .dataframe tbody tr th:only-of-type {\n",
              "        vertical-align: middle;\n",
              "    }\n",
              "\n",
              "    .dataframe tbody tr th {\n",
              "        vertical-align: top;\n",
              "    }\n",
              "\n",
              "    .dataframe thead th {\n",
              "        text-align: right;\n",
              "    }\n",
              "</style>\n",
              "<table border=\"1\" class=\"dataframe\">\n",
              "  <thead>\n",
              "    <tr style=\"text-align: right;\">\n",
              "      <th></th>\n",
              "      <th>expletives</th>\n",
              "      <th>corrected</th>\n",
              "    </tr>\n",
              "  </thead>\n",
              "  <tbody>\n",
              "    <tr>\n",
              "      <th>0</th>\n",
              "      <td>a**</td>\n",
              "      <td>ass</td>\n",
              "    </tr>\n",
              "    <tr>\n",
              "      <th>1</th>\n",
              "      <td>f**ck</td>\n",
              "      <td>fuck</td>\n",
              "    </tr>\n",
              "    <tr>\n",
              "      <th>2</th>\n",
              "      <td>sh*t</td>\n",
              "      <td>shit</td>\n",
              "    </tr>\n",
              "    <tr>\n",
              "      <th>3</th>\n",
              "      <td>p*ssy</td>\n",
              "      <td>pussy</td>\n",
              "    </tr>\n",
              "    <tr>\n",
              "      <th>4</th>\n",
              "      <td>b**ner</td>\n",
              "      <td>boner</td>\n",
              "    </tr>\n",
              "    <tr>\n",
              "      <th>...</th>\n",
              "      <td>...</td>\n",
              "      <td>...</td>\n",
              "    </tr>\n",
              "    <tr>\n",
              "      <th>93</th>\n",
              "      <td>g**damned</td>\n",
              "      <td>godammed</td>\n",
              "    </tr>\n",
              "    <tr>\n",
              "      <th>94</th>\n",
              "      <td>b*stard</td>\n",
              "      <td>bastard</td>\n",
              "    </tr>\n",
              "    <tr>\n",
              "      <th>95</th>\n",
              "      <td>bast*rds</td>\n",
              "      <td>bastards</td>\n",
              "    </tr>\n",
              "    <tr>\n",
              "      <th>96</th>\n",
              "      <td>d*mn</td>\n",
              "      <td>damn</td>\n",
              "    </tr>\n",
              "    <tr>\n",
              "      <th>97</th>\n",
              "      <td>f*king</td>\n",
              "      <td>fucking</td>\n",
              "    </tr>\n",
              "  </tbody>\n",
              "</table>\n",
              "<p>98 rows × 2 columns</p>\n",
              "</div>"
            ],
            "text/plain": [
              "   expletives corrected\n",
              "0         a**       ass\n",
              "1       f**ck      fuck\n",
              "2        sh*t      shit\n",
              "3       p*ssy     pussy\n",
              "4      b**ner     boner\n",
              "..        ...       ...\n",
              "93  g**damned  godammed\n",
              "94    b*stard   bastard\n",
              "95   bast*rds  bastards\n",
              "96       d*mn      damn\n",
              "97     f*king   fucking\n",
              "\n",
              "[98 rows x 2 columns]"
            ]
          },
          "metadata": {
            "tags": []
          },
          "execution_count": 69
        }
      ]
    },
    {
      "cell_type": "code",
      "metadata": {
        "colab": {
          "base_uri": "https://localhost:8080/"
        },
        "id": "_vB8DOns6f7R",
        "outputId": "bf75c3ad-26ec-460e-dc47-7a2bdfd060bd"
      },
      "source": [
        "# GET DICTIONARY OF EXPLETIVES MAPPINGSs\n",
        "# ------------------------------------\n",
        "expletives_mapping_dict = {}\n",
        "for i in range(len(expletives_mapping_df)):\n",
        "    censored_expletive = expletives_mapping_df['expletives'][i]\n",
        "    uncensored_expletive = expletives_mapping_df['corrected'][i]\n",
        "    expletives_mapping_dict[censored_expletive] = uncensored_expletive\n",
        "\n",
        "expletives_mapping_dict"
      ],
      "execution_count": null,
      "outputs": [
        {
          "output_type": "execute_result",
          "data": {
            "text/plain": [
              "{'*******': 'fucking',\n",
              " 'a**': 'ass',\n",
              " 'a**es': 'asses',\n",
              " 'a**hole': 'asshole',\n",
              " 'a**holes': 'assholes',\n",
              " 'a**s': 'ass',\n",
              " 'a*s': 'ass',\n",
              " 'apesh**t': 'apeshit',\n",
              " 'apesh*t': 'apeshit',\n",
              " 'b**ch': 'bitch',\n",
              " 'b**ner': 'boner',\n",
              " 'b**tard': 'bastard',\n",
              " 'b*stard': 'bastard',\n",
              " 'b*tch': 'bitch',\n",
              " 'b*tching': 'bitching',\n",
              " 'b*tchslapped': 'bitchslapped',\n",
              " 'bad*ss': 'badass',\n",
              " 'bast*rds': 'bastards',\n",
              " 'batsh**': 'batshit',\n",
              " 'batsh*t': 'batshit',\n",
              " 'bi*ch': 'bitch',\n",
              " 'bulls*it': 'bullshit',\n",
              " 'bullsh*t': 'bullshit',\n",
              " 'c**kblocking': 'cockblocking',\n",
              " 'c*ck': 'cock',\n",
              " 'c*ckblocking': 'cockblocking',\n",
              " 'c*cksucker': 'cocksucker',\n",
              " 'chickensh*t': 'chickenshit',\n",
              " 'clusterf*ck': 'clusterfuck',\n",
              " 'd**ks': 'dicks',\n",
              " 'd*ck': 'dick',\n",
              " 'd*king': 'dicking',\n",
              " 'd*mn': 'damn',\n",
              " 'dipsh*t': 'dipshit',\n",
              " 'dumb*ss': 'dumbass',\n",
              " 'dumba**': 'dumbass',\n",
              " 'f***': 'fuck',\n",
              " 'f*****g': 'fucking',\n",
              " 'f****ts': 'faggots',\n",
              " 'f***ed': 'fucked',\n",
              " 'f***ing': 'fucking',\n",
              " 'f**ck': 'fuck',\n",
              " 'f**k': 'fuck',\n",
              " 'f**king': 'fucking',\n",
              " 'f**ks': 'fucks',\n",
              " 'f*ck': 'fuck',\n",
              " 'f*cked': 'fucked',\n",
              " 'f*cker': 'fucker',\n",
              " 'f*ckin': 'fuckin',\n",
              " 'f*cking': 'fucking',\n",
              " 'f*cks': 'fucks',\n",
              " 'f*ggot': 'faggots',\n",
              " 'f*ggots': 'faggots',\n",
              " 'f*king': 'fucking',\n",
              " 'g**damned': 'godammed',\n",
              " 'h*ll': 'hell',\n",
              " 'motherf***er': 'motherfucker',\n",
              " 'motherf***king': 'motherfucking',\n",
              " 'motherf*cker': 'motherfucker',\n",
              " 'n*****': 'niggers',\n",
              " 'n******': 'niggers',\n",
              " 'n*****s': 'niggers',\n",
              " 'n****r': 'nigger',\n",
              " 'n****rs': 'niggers',\n",
              " 'n***a': 'nigga',\n",
              " 'n***er': 'nigger',\n",
              " 'n***ers': 'niggers',\n",
              " 'n***gers': 'niggers',\n",
              " 'n*ggas': 'niggas',\n",
              " 'n*gger': 'nigger',\n",
              " 'p***y': 'pussy',\n",
              " 'p*nis': 'penis',\n",
              " 'p*rn': 'porn',\n",
              " 'p*ss': 'piss',\n",
              " 'p*ssed': 'pissed',\n",
              " 'p*ssing': 'pissing',\n",
              " 'p*ssy': 'pussy',\n",
              " 'p*ssyhat': 'pussyhat',\n",
              " 'p*ssyhats': 'pussyhats',\n",
              " 'pu**y': 'pussy',\n",
              " 'pu**ygate': 'pussygate',\n",
              " 's***s': 'sluts',\n",
              " 's**t': 'shit',\n",
              " 's*it': 'shit',\n",
              " 'scr*wed': 'screwed',\n",
              " 'sh**tting': 'shitting',\n",
              " 'sh*t': 'shit',\n",
              " 'sh*tand': 'shitland',\n",
              " 'sh*tcanned': 'shitcanned',\n",
              " 'sh*tless': 'shitless',\n",
              " 'sh*ts': 'shits',\n",
              " 'sh*tshow': 'shitshow',\n",
              " 'sh*tstain': 'shitstain',\n",
              " 'sh*tting': 'shitting',\n",
              " 'sh*tty': 'shitty',\n",
              " 't*t': 'tit',\n",
              " 'whoopa**': 'whoopass'}"
            ]
          },
          "metadata": {
            "tags": []
          },
          "execution_count": 70
        }
      ]
    },
    {
      "cell_type": "code",
      "metadata": {
        "colab": {
          "base_uri": "https://localhost:8080/",
          "height": 35
        },
        "id": "sCETlHJ-cCMx",
        "outputId": "8ec6a15f-d8ad-4fc4-a489-c69128121dac"
      },
      "source": [
        "# CODE TO CHECK ORIGINAL TEXT OF EXPLETIVE\n",
        "ex = \"\"\"\n",
        "stupidasf*ck\n",
        "\"\"\"\n",
        "fake_df['title'][expletives[ex.strip()]]"
      ],
      "execution_count": null,
      "outputs": [
        {
          "output_type": "execute_result",
          "data": {
            "application/vnd.google.colaboratory.intrinsic+json": {
              "type": "string"
            },
            "text/plain": [
              "' Trump Gets HUMILIATED After His Latest Stupid-As-F*ck Attack On Obama (TWEETS)'"
            ]
          },
          "metadata": {
            "tags": []
          },
          "execution_count": 71
        }
      ]
    },
    {
      "cell_type": "markdown",
      "metadata": {
        "id": "cbxIjBLz_xxd"
      },
      "source": [
        "#### text_preprocessor FUNCTION"
      ]
    },
    {
      "cell_type": "code",
      "metadata": {
        "id": "j0siwHIYZlDg"
      },
      "source": [
        "def text_preprocessor(x, type=\"default\"):\n",
        "    '''\n",
        "    Parameters\n",
        "    ----------\n",
        "    x : str\n",
        "        The string to be cleaned\n",
        "    type : string, optional\n",
        "        The type of text to be cleaned. \n",
        "        There are 5 types: \"default\", \"true_title\", \"true_text\", \"fake_title\", \"fake_text\".\n",
        "        \n",
        "    Using pure spaCy instead of NLTK for faster preprocessing. Function will return None if there's an error in the cleaning.\n",
        "\n",
        "    Preprocessing steps:\n",
        "    ---------------------\n",
        "    1. Check if <type> param is filled correctly\n",
        "    2. Removal of source of article at the start of each text (for true news only)\n",
        "    3. Removal of whitespace\n",
        "    4. Convert to lowercase\n",
        "    5. Handling key punctuated acronyms (eg. \"U.S.\") \n",
        "    6. Removal of words within brackets\n",
        "    7. Removal of URLs eg. \"bit.ly/...\" or \"pic.twitter.com/...\"\n",
        "    8. Removal of punctuations and special characters and numbers, except asterisks\n",
        "    9. Uncensoring expletives\n",
        "    10. Removal of stop words, tokenisation and lemmatization, handling of us spelling words, and characters not cleaned previously\n",
        "\n",
        "    '''\n",
        "    # If type is unspecified, throw an exception\n",
        "    if type == \"default\":\n",
        "        raise Exception(\"Sorry, please specify the argument <type>.\")\n",
        "\n",
        "    try: \n",
        "        # Removal of leading and trailing whitespace characters eg. '\\n', '\\r' \n",
        "        x = x.strip()\n",
        "\n",
        "        if type == \"true_text\":\n",
        "            # Removal of source of article at the start of each text (for real news only)\n",
        "            try: # if there isn't any ' - ' in the text\n",
        "                x = x.split(\" - \", maxsplit=1) # separates the publisher and rest of the news article\n",
        "                if len(x[0]) > 100: # when the text has no publisher, the split at ' - ' won't separate a publisher\n",
        "                    x = x[0] + x[1]\n",
        "                else: # if there's a publisher, return the text after the publisher\n",
        "                    x = x[1]\n",
        "            except: \n",
        "                x = x\n",
        "        \n",
        "\n",
        "        # Convert to lowercase\n",
        "        x = x.lower()\n",
        "\n",
        "        # Replace important punctuated key acronyms with non-punctuated versions\n",
        "        for key, value in key_acronyms_mapping.items():\n",
        "            x = x.replace(key, value)\n",
        "\n",
        "        # Handling contractions eg. \"could've\" to \"could have\"\n",
        "        # for key,value in contractions.items():\n",
        "        #     x = x.replace(key, value)\n",
        "\n",
        "        # Removal of words within brackets\n",
        "        x = re.sub(r\"[\\(\\[].*?[\\)\\]]\", \"\", x)\n",
        "        \n",
        "        # Removal of URLs\n",
        "        x = re.sub(r'https?:\\S+', '', x) # remove URLs that contain http or https\n",
        "        x = re.sub(r'pic.twitter.com/[\\w]*', '', x) # remove twitter pic URLs\n",
        "        x = re.sub(r'tmsnrt.rs/[\\w]*', '', x) # remove tmnsrt.rs URLs (thomson reuters)\n",
        "        x = re.sub(r'reut.rs/[\\w]*', '', x) # remove reut.rs URLs (reuters)\n",
        "        x = re.sub(r'bit.ly/[\\w]*', '', x) # remove bit.ly URLs\n",
        "        x = re.sub(r'[\\w]*.com/\\S+', '', x) # remove URLs generally ie. words that contain \".com/\"\n",
        "        \n",
        "\n",
        "        # Removal of punctuations and special characters, except asterisk (*) characters because of words like \"f**k\", replaces the unwanted characters with an empty whitespace.\n",
        "        x = re.sub(r'[^\\w\\s\\*]',' ',x) \n",
        "\n",
        "        # Removal of numbers\n",
        "        x = re.sub(r'\\d+', '', x)\n",
        "        \n",
        "        # Uncensoring expletives\n",
        "        for i in range(len(expletives_mapping_df)):\n",
        "            x = x.replace(expletives_mapping_df['expletives'][i], expletives_mapping_df['corrected'][i])\n",
        "\n",
        "        # Old method:\n",
        "        # x = word_tokenize(x) # split string into a list of tokens\n",
        "        # for i in range(len(x)):\n",
        "        #     word = x[i]\n",
        "        #     if word in expletives_mapping_dict: # if word is an expletive\n",
        "        #         x[i] = expletives_mapping_dict[word] # replace censored expletive with uncensored expletive\n",
        "        # x = \" \".join(x) # convert x back into string\n",
        "\n",
        "\n",
        "        # Removal of stop words, tokenisation and lemmatization, handling of us spelling words, and characters not cleaned previously\n",
        "        doc = nlp(x) # initialising spaCy object\n",
        "        result = []\n",
        "        for token in doc: # iterate through spaCy object: for each token in the text\n",
        "            if len(token.text.strip()) != 0: # prevent empty whitespace (caused by punctuations) from being stored in the result\n",
        "                if len(token.text) > 1: # exclude asterisk and other characters that won't be meaningful\n",
        "                    if token.is_stop == False or token.text in stopwords_to_be_excluded: # if token.text is not stopwords, or if token.text is a stopword that we want to keep\n",
        "                            lem_token = token.lemma_\n",
        "                            if lem_token in us_to_uk_mapping: #   if token.text is a US spelling word, convert to UK\n",
        "                                result.append(us_to_uk_mapping[lem_token]) # lemmatize and add into np.array\n",
        "                            else:\n",
        "                                result.append(lem_token)\n",
        "        result_str = (\" \".join(result)).lower()\n",
        "        return result_str\n",
        "\n",
        "    except: # if any error happens, the preprocessor will just return None instead of an error that kills the preprocessing code runtime\n",
        "        return None"
      ],
      "execution_count": null,
      "outputs": []
    },
    {
      "cell_type": "code",
      "metadata": {
        "id": "Ci8Xp3oIPzTd"
      },
      "source": [
        ""
      ],
      "execution_count": null,
      "outputs": []
    },
    {
      "cell_type": "code",
      "metadata": {
        "colab": {
          "base_uri": "https://localhost:8080/"
        },
        "id": "QTrAH_2R7SJC",
        "outputId": "6ffce512-67f2-4f95-b437-56cf23321979"
      },
      "source": [
        "# test\n",
        "# doc = nlp(\"US, LA, WH, gtwenty, DC, UK, nasa, NC, SC\")\n",
        "doc = nlp(\"US, UK, LA, SC, NC, id\")\n",
        "for token in doc:\n",
        "    print(token.lemma_)"
      ],
      "execution_count": null,
      "outputs": [
        {
          "output_type": "stream",
          "text": [
            "US\n",
            ",\n",
            "UK\n",
            ",\n",
            "LA\n",
            ",\n",
            "SC\n",
            ",\n",
            "NC\n",
            ",\n",
            "i\n",
            "d\n"
          ],
          "name": "stdout"
        }
      ]
    },
    {
      "cell_type": "code",
      "metadata": {
        "colab": {
          "base_uri": "https://localhost:8080/"
        },
        "id": "J8rBYjSC4bjK",
        "outputId": "06e61469-88c2-4b5b-c5a5-a5d53b02e95d"
      },
      "source": [
        "# TEST OUTPUT\n",
        "test1 = 'Trump Gets His A** Handed To Him By British Lawmakers For Lying About Rising Crime Rate In UK'\n",
        "test2 = \" Trump Jr. Goes Full Dumba** On Twitter By Promoting Wrong Day Of Virginia Election\"\n",
        "test3 = \" Over 500 NFL Players Plan To Tell Trump To F*** Off Today In The Best Way Possible\"\n",
        "test4 = \"\"\"\n",
        "It almost seems like Donald Trump is trolling America at this point. In the beginning, when he tried to gaslight the country by insisting that the crowd at his inauguration was the biggest ever   or that it was even close to the last couple of inaugurations   we all kind of scratched our heads and wondered what kind of bullshit he was playing at. Then when he started appointing people to positions they had no business being in, we started to worry that this was going to go much worse than we had expected.After 11 months of Donald Trump pulling the rhetorical equivalent of whipping his dick out and slapping it on every table he gets near, I think it s time we address what s happening: Dude is a straight-up troll. He gets pleasure out of making other people uncomfortable or even seeing them in distress. He actively thinks up ways to piss off people he doesn t like.Let s set aside just for a moment the fact that that s the least presidential  behavior anyone s ever heard of   it s dangerous.His latest stunt is one of the grossest yet.Everyone is, by now, used to Trump not talking about things he doesn t want to talk about, and making a huge deal out of things that not many people care about. So it wasn t a huge surprise when the president didn t discuss the Sandy Hook shooting of 2012 on the fifth anniversary of that tragic event. What was a huge surprise was that he not only consciously decided not to invite the victims  families to the White House Christmas party this year   as they have been invited every year since the massacre took place, along with others who share those concerns.In each of the past 4 years, President Obama invited gun violence prevention activists, gun violence survivors (including the Sandy Hook families) and supportive lawmakers to his Christmas party. Zero gun lobbyists were in attendance. pic.twitter.com/QePW9FtbSh  Shannon Watts (@shannonrwatts) December 15, 2017The last sentence of that tweet is important, because that s exactly who Donald Trump did invite to the White House Christmas party. Instead of victims. On the anniversary day.Yesterday was the 5 year mark of the mass shooting at Sandy Hook School, which went unacknowledged by the President. On the same day, he hosted a White House Christmas party to which he invited @NRA CEO Wayne LaPierre. Here he is at the party with @DanPatrick. pic.twitter.com/mUbKCIWGxB  Shannon Watts (@shannonrwatts) December 15, 2017Wayne LaPierre is the man who, in response to the Sandy Hook massacre, finally issued a statement that blamed gun violence on music, movies, and video games, and culminated with perhaps the greatest bit of irony any man has ever unintentionally conceived of: Isn t fantasizing about killing people as a way to get your kicks really the filthiest form of pornography? Yes. Yes, it is, Wayne.Anyway, Happy Holidays Merry Christmas from Donald Trump, everyone!Featured image via Alex Wong/Getty Images\n",
        "\"\"\"\n",
        "x = \"\"\"\n",
        "Good news everyone! All crime in Texas has been solved. How do we know this? Because Fort Bend County Sheriff Troy E. Nehls has announced that he s going on a crusade against protected political speech.Apparently, the Sheriff saw someone s anti-Trump sticker he placed on his truck and decided to take action pleasing the tortured little snowflakes who contacted him about it but also showing that not only he but an unnamed prosecutor is corrupt as f*ck. I have received numerous calls regarding the offensive display on this truck as it is often seen along FM 359. If you know who owns this truck or it is yours, I would like to discuss it with you,  the Sheriff posted on Facebook Wednesday.  Our Prosecutor has informed us she would accept Disorderly Conduct charges regarding it, but I feel we could come to an agreement regarding a modification to it. Yes, disorderly conduct. For a sticker. Because it s anti-Trump.Sorry, Sheriff. No  agreement  is necessary, as it is not a crime to criticize the President or people who voted for him. Naturally, Americans stopped by to laugh at the sheriff who claims that saying mean things about Trump constitutes an  immediate breach of the peace :       Unfortunately for the Sheriff, this matter was decided in the 1971 Supreme Court case, Cohen v. California. A man was convicted for disturbing the peace by wearing a  f*ck the draft  jacket, but the Supreme Court told those who would abuse the justice system by punishing protected political speech to f*ck off.Unfortunately, the goal here isn t to successfully prosecute someone. It s to make sure that the owner of the truck pays for being mean to Trump.Featured image via screengrab\n",
        "\"\"\"\n",
        "test5 = true_df['text'][0]\n",
        "\n",
        "start = time.time()\n",
        "print(text_preprocessor(test5, type=\"true_text\"))\n",
        "end = time.time()\n",
        "print(end-start)\n",
        "print(test5)"
      ],
      "execution_count": null,
      "outputs": [
        {
          "output_type": "stream",
          "text": [
            "head conservative republican faction us congress vote month huge expansion national debt pay tax cut call fiscal conservative sunday urge budget restraint keep sharp pivot way republican us representative mark meadow speak cbs face nation draw hard line federal spending lawmaker brace battle january return holiday wednesday lawmaker begin try pass federal budget fight likely link issue immigration policy november congressional election campaign approach republican seek control congress president donald trump republican want big budget increase military spending democrat want proportional increase non defence discretionary spend programme support education scientific research infrastructure public health environmental protection administration willing go increase non defence discretionary spending percent meadow chairman small influential house freedom caucus say programme democrats say need government pay raise percent fiscal conservative don rationale eventually run people money say meadow republican vote late december party debt finance tax overhaul expect balloon federal budget deficit add trillion year trillion national debt interesting hear mark talk fiscal responsibility democratic us representative joseph crowley say cbs crowley say republican tax bill require united state borrow trillion pay future generation finance tax cut corporation rich fiscally responsible bill ve see pass history house representative think go pay year come crowley say republican insist tax package big us tax overhaul year boost economy job growth house speaker paul ryan support tax bill recently go meadow make clear radio interview welfare entitlement reform party call republican priority republican parlance entitlement programme mean food stamp housing assistance medicare medicaid health insurance elderly poor disable programme create washington assist needy democrats seize ryan early december remark say show republican try pay tax overhaul seek spending cut social programme goal house republican seat senate vote democrats need approve budget prevent government shutdown democrats use leverage senate republican narrowly control defend discretionary non defence programme social spending tackle issue dreamer people bring illegally country child trump september march expiration date deferred action childhood arrival daca programme protect young immigrant deportation provide work permit president say recent twitter message want funding propose mexican border wall immigration law change exchange agree help dreamer representative debbie dingell tell cbs favor link issue policy objective wall funding need daca clean say wednesday trump aide meet congressional leader discuss issue follow weekend strategy session trump republican leader jan white house say trump schedule meet sunday florida republican governor rick scott want emergency aid house pass billion aid package hurricane florida texas puerto rico wildfire california package far exceed billion request trump administration senate vote aid\n",
            "0.14504575729370117\n",
            "WASHINGTON (Reuters) - The head of a conservative Republican faction in the U.S. Congress, who voted this month for a huge expansion of the national debt to pay for tax cuts, called himself a “fiscal conservative” on Sunday and urged budget restraint in 2018. In keeping with a sharp pivot under way among Republicans, U.S. Representative Mark Meadows, speaking on CBS’ “Face the Nation,” drew a hard line on federal spending, which lawmakers are bracing to do battle over in January. When they return from the holidays on Wednesday, lawmakers will begin trying to pass a federal budget in a fight likely to be linked to other issues, such as immigration policy, even as the November congressional election campaigns approach in which Republicans will seek to keep control of Congress. President Donald Trump and his Republicans want a big budget increase in military spending, while Democrats also want proportional increases for non-defense “discretionary” spending on programs that support education, scientific research, infrastructure, public health and environmental protection. “The (Trump) administration has already been willing to say: ‘We’re going to increase non-defense discretionary spending ... by about 7 percent,’” Meadows, chairman of the small but influential House Freedom Caucus, said on the program. “Now, Democrats are saying that’s not enough, we need to give the government a pay raise of 10 to 11 percent. For a fiscal conservative, I don’t see where the rationale is. ... Eventually you run out of other people’s money,” he said. Meadows was among Republicans who voted in late December for their party’s debt-financed tax overhaul, which is expected to balloon the federal budget deficit and add about $1.5 trillion over 10 years to the $20 trillion national debt. “It’s interesting to hear Mark talk about fiscal responsibility,” Democratic U.S. Representative Joseph Crowley said on CBS. Crowley said the Republican tax bill would require the  United States to borrow $1.5 trillion, to be paid off by future generations, to finance tax cuts for corporations and the rich. “This is one of the least ... fiscally responsible bills we’ve ever seen passed in the history of the House of Representatives. I think we’re going to be paying for this for many, many years to come,” Crowley said. Republicans insist the tax package, the biggest U.S. tax overhaul in more than 30 years,  will boost the economy and job growth. House Speaker Paul Ryan, who also supported the tax bill, recently went further than Meadows, making clear in a radio interview that welfare or “entitlement reform,” as the party often calls it, would be a top Republican priority in 2018. In Republican parlance, “entitlement” programs mean food stamps, housing assistance, Medicare and Medicaid health insurance for the elderly, poor and disabled, as well as other programs created by Washington to assist the needy. Democrats seized on Ryan’s early December remarks, saying they showed Republicans would try to pay for their tax overhaul by seeking spending cuts for social programs. But the goals of House Republicans may have to take a back seat to the Senate, where the votes of some Democrats will be needed to approve a budget and prevent a government shutdown. Democrats will use their leverage in the Senate, which Republicans narrowly control, to defend both discretionary non-defense programs and social spending, while tackling the issue of the “Dreamers,” people brought illegally to the country as children. Trump in September put a March 2018 expiration date on the Deferred Action for Childhood Arrivals, or DACA, program, which protects the young immigrants from deportation and provides them with work permits. The president has said in recent Twitter messages he wants funding for his proposed Mexican border wall and other immigration law changes in exchange for agreeing to help the Dreamers. Representative Debbie Dingell told CBS she did not favor linking that issue to other policy objectives, such as wall funding. “We need to do DACA clean,” she said.  On Wednesday, Trump aides will meet with congressional leaders to discuss those issues. That will be followed by a weekend of strategy sessions for Trump and Republican leaders on Jan. 6 and 7, the White House said. Trump was also scheduled to meet on Sunday with Florida Republican Governor Rick Scott, who wants more emergency aid. The House has passed an $81 billion aid package after hurricanes in Florida, Texas and Puerto Rico, and wildfires in California. The package far exceeded the $44 billion requested by the Trump administration. The Senate has not yet voted on the aid. \n"
          ],
          "name": "stdout"
        }
      ]
    },
    {
      "cell_type": "code",
      "metadata": {
        "colab": {
          "base_uri": "https://localhost:8080/"
        },
        "id": "5gjrBsadMLnZ",
        "outputId": "c332a02a-0353-4437-c640-d95691eda2f2"
      },
      "source": [
        "test_text = true_df['text'][random.randint(0, len(true_df))]\n",
        "print(test_text)"
      ],
      "execution_count": null,
      "outputs": [
        {
          "output_type": "stream",
          "text": [
            "SYDNEY (Reuters) - Australia s Bureau of Statistics said on Tuesday 9.2 million people, or 57.5 percent of eligible voters, have cast their votes in a ballot on whether same-sex marriage should be legalized. Australians began voting last month in the non-binding poll, conducted by post, to inform the government on whether voters wanted Australia to become the 25th nation to permit same-sex marriage. The results of the poll will be declared on Nov. 15. The first official update suggests a high turnout is likely despite the ballot being non-compulsory. Turnout levels will go a long way in determining whether Australian Prime Minister Malcolm Turnbull can finally resolve a topic that has dogged his tenure as leader and threatened to split his centre-right government along ideological grounds. Low turnout would have seen the issue continue to dominate the political discourse whatever the result, underpinned by  questions of legitimacy in a country used to compulsory voting. The first official update on the progress of the same-sex marriage survey comes just a day after a Sky News ReachTel poll showed the  yes  vote on track for a comprehensive victory. More than 64 percent of those surveyed have sent back their ballot and voted  yes , the poll showed, with a further six percent planning to support same-sex marriage.   A widespread victory may do little, however, to heal a divided the nation of 24 million people, which has split along religious and generational lines and at times has threatened to turn nasty, prompting parliament to strengthen laws preventing hate-speech. \n"
          ],
          "name": "stdout"
        }
      ]
    },
    {
      "cell_type": "code",
      "metadata": {
        "colab": {
          "base_uri": "https://localhost:8080/"
        },
        "id": "L2Ph1a1aL49A",
        "outputId": "6e2704f8-784c-4357-c5f5-7eec29d8c908"
      },
      "source": [
        "print(text_preprocessor(test_text, type=\"true_text\"))"
      ],
      "execution_count": null,
      "outputs": [
        {
          "output_type": "stream",
          "text": [
            "australia bureau statistic say tuesday million people percent eligible voter cast vote ballot sex marriage legalize australian begin vote month non bind poll conduct post inform government voter want australia th nation permit sex marriage result poll declare nov official update suggest high turnout likely despite ballot non compulsory turnout level long way determine australian prime minister malcolm turnbull finally resolve topic dog tenure leader threaten split centre right government ideological ground low turnout see issue continue dominate political discourse result underpin question legitimacy country compulsory voting official update progress sex marriage survey come day sky news reachtel poll show yes vote track comprehensive victory percent survey send ballot vote yes poll show percent plan support sex marriage widespread victory little heal divide nation million people split religious generational line time threaten turn nasty prompt parliament strengthen law prevent hate speech\n"
          ],
          "name": "stdout"
        }
      ]
    },
    {
      "cell_type": "markdown",
      "metadata": {
        "id": "SbyxDAj2C9Sp"
      },
      "source": [
        "## DATA PREPROCESSING"
      ]
    },
    {
      "cell_type": "code",
      "metadata": {
        "colab": {
          "base_uri": "https://localhost:8080/",
          "height": 191
        },
        "id": "zwkMxw6a_dYv",
        "outputId": "1b138729-13f4-4f97-fb82-0aabc6faf15e"
      },
      "source": [
        "true_df.head()"
      ],
      "execution_count": null,
      "outputs": [
        {
          "output_type": "execute_result",
          "data": {
            "text/html": [
              "<div>\n",
              "<style scoped>\n",
              "    .dataframe tbody tr th:only-of-type {\n",
              "        vertical-align: middle;\n",
              "    }\n",
              "\n",
              "    .dataframe tbody tr th {\n",
              "        vertical-align: top;\n",
              "    }\n",
              "\n",
              "    .dataframe thead th {\n",
              "        text-align: right;\n",
              "    }\n",
              "</style>\n",
              "<table border=\"1\" class=\"dataframe\">\n",
              "  <thead>\n",
              "    <tr style=\"text-align: right;\">\n",
              "      <th></th>\n",
              "      <th>title</th>\n",
              "      <th>text</th>\n",
              "      <th>subject</th>\n",
              "      <th>date</th>\n",
              "    </tr>\n",
              "  </thead>\n",
              "  <tbody>\n",
              "    <tr>\n",
              "      <th>0</th>\n",
              "      <td>As U.S. budget fight looms, Republicans flip t...</td>\n",
              "      <td>WASHINGTON (Reuters) - The head of a conservat...</td>\n",
              "      <td>politicsNews</td>\n",
              "      <td>December 31, 2017</td>\n",
              "    </tr>\n",
              "    <tr>\n",
              "      <th>1</th>\n",
              "      <td>U.S. military to accept transgender recruits o...</td>\n",
              "      <td>WASHINGTON (Reuters) - Transgender people will...</td>\n",
              "      <td>politicsNews</td>\n",
              "      <td>December 29, 2017</td>\n",
              "    </tr>\n",
              "    <tr>\n",
              "      <th>2</th>\n",
              "      <td>Senior U.S. Republican senator: 'Let Mr. Muell...</td>\n",
              "      <td>WASHINGTON (Reuters) - The special counsel inv...</td>\n",
              "      <td>politicsNews</td>\n",
              "      <td>December 31, 2017</td>\n",
              "    </tr>\n",
              "    <tr>\n",
              "      <th>3</th>\n",
              "      <td>FBI Russia probe helped by Australian diplomat...</td>\n",
              "      <td>WASHINGTON (Reuters) - Trump campaign adviser ...</td>\n",
              "      <td>politicsNews</td>\n",
              "      <td>December 30, 2017</td>\n",
              "    </tr>\n",
              "    <tr>\n",
              "      <th>4</th>\n",
              "      <td>Trump wants Postal Service to charge 'much mor...</td>\n",
              "      <td>SEATTLE/WASHINGTON (Reuters) - President Donal...</td>\n",
              "      <td>politicsNews</td>\n",
              "      <td>December 29, 2017</td>\n",
              "    </tr>\n",
              "  </tbody>\n",
              "</table>\n",
              "</div>"
            ],
            "text/plain": [
              "                                               title  ...                date\n",
              "0  As U.S. budget fight looms, Republicans flip t...  ...  December 31, 2017 \n",
              "1  U.S. military to accept transgender recruits o...  ...  December 29, 2017 \n",
              "2  Senior U.S. Republican senator: 'Let Mr. Muell...  ...  December 31, 2017 \n",
              "3  FBI Russia probe helped by Australian diplomat...  ...  December 30, 2017 \n",
              "4  Trump wants Postal Service to charge 'much mor...  ...  December 29, 2017 \n",
              "\n",
              "[5 rows x 4 columns]"
            ]
          },
          "metadata": {
            "tags": []
          },
          "execution_count": 74
        }
      ]
    },
    {
      "cell_type": "code",
      "metadata": {
        "colab": {
          "base_uri": "https://localhost:8080/",
          "height": 191
        },
        "id": "fpp3ANQZ_QUB",
        "outputId": "5a4db530-e5cd-4a3c-cbe6-e49e2c160bd6"
      },
      "source": [
        "fake_df.head()"
      ],
      "execution_count": null,
      "outputs": [
        {
          "output_type": "execute_result",
          "data": {
            "text/html": [
              "<div>\n",
              "<style scoped>\n",
              "    .dataframe tbody tr th:only-of-type {\n",
              "        vertical-align: middle;\n",
              "    }\n",
              "\n",
              "    .dataframe tbody tr th {\n",
              "        vertical-align: top;\n",
              "    }\n",
              "\n",
              "    .dataframe thead th {\n",
              "        text-align: right;\n",
              "    }\n",
              "</style>\n",
              "<table border=\"1\" class=\"dataframe\">\n",
              "  <thead>\n",
              "    <tr style=\"text-align: right;\">\n",
              "      <th></th>\n",
              "      <th>title</th>\n",
              "      <th>text</th>\n",
              "      <th>subject</th>\n",
              "      <th>date</th>\n",
              "    </tr>\n",
              "  </thead>\n",
              "  <tbody>\n",
              "    <tr>\n",
              "      <th>0</th>\n",
              "      <td>Donald Trump Sends Out Embarrassing New Year’...</td>\n",
              "      <td>Donald Trump just couldn t wish all Americans ...</td>\n",
              "      <td>News</td>\n",
              "      <td>December 31, 2017</td>\n",
              "    </tr>\n",
              "    <tr>\n",
              "      <th>1</th>\n",
              "      <td>Drunk Bragging Trump Staffer Started Russian ...</td>\n",
              "      <td>House Intelligence Committee Chairman Devin Nu...</td>\n",
              "      <td>News</td>\n",
              "      <td>December 31, 2017</td>\n",
              "    </tr>\n",
              "    <tr>\n",
              "      <th>2</th>\n",
              "      <td>Sheriff David Clarke Becomes An Internet Joke...</td>\n",
              "      <td>On Friday, it was revealed that former Milwauk...</td>\n",
              "      <td>News</td>\n",
              "      <td>December 30, 2017</td>\n",
              "    </tr>\n",
              "    <tr>\n",
              "      <th>3</th>\n",
              "      <td>Trump Is So Obsessed He Even Has Obama’s Name...</td>\n",
              "      <td>On Christmas day, Donald Trump announced that ...</td>\n",
              "      <td>News</td>\n",
              "      <td>December 29, 2017</td>\n",
              "    </tr>\n",
              "    <tr>\n",
              "      <th>4</th>\n",
              "      <td>Pope Francis Just Called Out Donald Trump Dur...</td>\n",
              "      <td>Pope Francis used his annual Christmas Day mes...</td>\n",
              "      <td>News</td>\n",
              "      <td>December 25, 2017</td>\n",
              "    </tr>\n",
              "  </tbody>\n",
              "</table>\n",
              "</div>"
            ],
            "text/plain": [
              "                                               title  ...               date\n",
              "0   Donald Trump Sends Out Embarrassing New Year’...  ...  December 31, 2017\n",
              "1   Drunk Bragging Trump Staffer Started Russian ...  ...  December 31, 2017\n",
              "2   Sheriff David Clarke Becomes An Internet Joke...  ...  December 30, 2017\n",
              "3   Trump Is So Obsessed He Even Has Obama’s Name...  ...  December 29, 2017\n",
              "4   Pope Francis Just Called Out Donald Trump Dur...  ...  December 25, 2017\n",
              "\n",
              "[5 rows x 4 columns]"
            ]
          },
          "metadata": {
            "tags": []
          },
          "execution_count": 75
        }
      ]
    },
    {
      "cell_type": "code",
      "metadata": {
        "colab": {
          "base_uri": "https://localhost:8080/"
        },
        "id": "-CZcLPTl_8Kc",
        "outputId": "e4ec364d-faa2-42ca-a213-a03f9e47e44a"
      },
      "source": [
        "# APPLYING PRE-PROCESSOR ON TRUE.CSV DATAFRAME 'TITLE' COLUMN\n",
        "start = time.time()\n",
        "# true_df['cleaned_title'] = true_df['title'].apply(lambda x: text_preprocessor(x, type=\"true_title\"))\n",
        "end = time.time()\n",
        "print(end-start)"
      ],
      "execution_count": null,
      "outputs": [
        {
          "output_type": "stream",
          "text": [
            "191.19103622436523\n"
          ],
          "name": "stdout"
        }
      ]
    },
    {
      "cell_type": "code",
      "metadata": {
        "colab": {
          "base_uri": "https://localhost:8080/",
          "height": 191
        },
        "id": "wbPp9nX2D5eE",
        "outputId": "ab077730-fe50-47c9-ceab-a0894b119d6d"
      },
      "source": [
        "true_df.head()"
      ],
      "execution_count": null,
      "outputs": [
        {
          "output_type": "execute_result",
          "data": {
            "text/html": [
              "<div>\n",
              "<style scoped>\n",
              "    .dataframe tbody tr th:only-of-type {\n",
              "        vertical-align: middle;\n",
              "    }\n",
              "\n",
              "    .dataframe tbody tr th {\n",
              "        vertical-align: top;\n",
              "    }\n",
              "\n",
              "    .dataframe thead th {\n",
              "        text-align: right;\n",
              "    }\n",
              "</style>\n",
              "<table border=\"1\" class=\"dataframe\">\n",
              "  <thead>\n",
              "    <tr style=\"text-align: right;\">\n",
              "      <th></th>\n",
              "      <th>title</th>\n",
              "      <th>text</th>\n",
              "      <th>subject</th>\n",
              "      <th>date</th>\n",
              "      <th>cleaned_title</th>\n",
              "    </tr>\n",
              "  </thead>\n",
              "  <tbody>\n",
              "    <tr>\n",
              "      <th>0</th>\n",
              "      <td>As U.S. budget fight looms, Republicans flip t...</td>\n",
              "      <td>WASHINGTON (Reuters) - The head of a conservat...</td>\n",
              "      <td>politicsNews</td>\n",
              "      <td>December 31, 2017</td>\n",
              "      <td>us budget fight loom republican flip fiscal sc...</td>\n",
              "    </tr>\n",
              "    <tr>\n",
              "      <th>1</th>\n",
              "      <td>U.S. military to accept transgender recruits o...</td>\n",
              "      <td>WASHINGTON (Reuters) - Transgender people will...</td>\n",
              "      <td>politicsNews</td>\n",
              "      <td>December 29, 2017</td>\n",
              "      <td>us military accept transgender recruit monday ...</td>\n",
              "    </tr>\n",
              "    <tr>\n",
              "      <th>2</th>\n",
              "      <td>Senior U.S. Republican senator: 'Let Mr. Muell...</td>\n",
              "      <td>WASHINGTON (Reuters) - The special counsel inv...</td>\n",
              "      <td>politicsNews</td>\n",
              "      <td>December 31, 2017</td>\n",
              "      <td>senior us republican senator let mr mueller job</td>\n",
              "    </tr>\n",
              "    <tr>\n",
              "      <th>3</th>\n",
              "      <td>FBI Russia probe helped by Australian diplomat...</td>\n",
              "      <td>WASHINGTON (Reuters) - Trump campaign adviser ...</td>\n",
              "      <td>politicsNews</td>\n",
              "      <td>December 30, 2017</td>\n",
              "      <td>fbi russia probe help australian diplomat tip nyt</td>\n",
              "    </tr>\n",
              "    <tr>\n",
              "      <th>4</th>\n",
              "      <td>Trump wants Postal Service to charge 'much mor...</td>\n",
              "      <td>SEATTLE/WASHINGTON (Reuters) - President Donal...</td>\n",
              "      <td>politicsNews</td>\n",
              "      <td>December 29, 2017</td>\n",
              "      <td>trump want postal service charge amazon shipment</td>\n",
              "    </tr>\n",
              "  </tbody>\n",
              "</table>\n",
              "</div>"
            ],
            "text/plain": [
              "                                               title  ...                                      cleaned_title\n",
              "0  As U.S. budget fight looms, Republicans flip t...  ...  us budget fight loom republican flip fiscal sc...\n",
              "1  U.S. military to accept transgender recruits o...  ...  us military accept transgender recruit monday ...\n",
              "2  Senior U.S. Republican senator: 'Let Mr. Muell...  ...    senior us republican senator let mr mueller job\n",
              "3  FBI Russia probe helped by Australian diplomat...  ...  fbi russia probe help australian diplomat tip nyt\n",
              "4  Trump wants Postal Service to charge 'much mor...  ...   trump want postal service charge amazon shipment\n",
              "\n",
              "[5 rows x 5 columns]"
            ]
          },
          "metadata": {
            "tags": []
          },
          "execution_count": 77
        }
      ]
    },
    {
      "cell_type": "code",
      "metadata": {
        "colab": {
          "base_uri": "https://localhost:8080/"
        },
        "id": "JYCuQoj8FeUY",
        "outputId": "0b383b85-a837-437a-ab29-1944fa1b52ca"
      },
      "source": [
        "# CHECK FOR ERRORS\n",
        "true_df.isnull().sum()"
      ],
      "execution_count": null,
      "outputs": [
        {
          "output_type": "execute_result",
          "data": {
            "text/plain": [
              "title            0\n",
              "text             0\n",
              "subject          0\n",
              "date             0\n",
              "cleaned_title    0\n",
              "dtype: int64"
            ]
          },
          "metadata": {
            "tags": []
          },
          "execution_count": 78
        }
      ]
    },
    {
      "cell_type": "code",
      "metadata": {
        "colab": {
          "base_uri": "https://localhost:8080/"
        },
        "id": "TLw-UbrAJZMh",
        "outputId": "552368a6-a7f0-4946-eb1a-d98bb93f8942"
      },
      "source": [
        "# APPLYING PRE-PROCESSOR ON TRUE.CSV DATAFRAME 'TEXT' COLUMN\n",
        "start = time.time()\n",
        "# true_df['cleaned_text'] = true_df['text'].apply(lambda x: text_preprocessor(x, type=\"true_text\"))\n",
        "end = time.time()\n",
        "print(end-start)\n",
        "# original timing: 1321s"
      ],
      "execution_count": null,
      "outputs": [
        {
          "output_type": "stream",
          "text": [
            "1434.7370717525482\n"
          ],
          "name": "stdout"
        }
      ]
    },
    {
      "cell_type": "code",
      "metadata": {
        "colab": {
          "base_uri": "https://localhost:8080/",
          "height": 191
        },
        "id": "KgLV59HgL6ZI",
        "outputId": "0db4ba82-741b-4e87-c61b-26cc979f7b17"
      },
      "source": [
        "true_df.head()"
      ],
      "execution_count": null,
      "outputs": [
        {
          "output_type": "execute_result",
          "data": {
            "text/html": [
              "<div>\n",
              "<style scoped>\n",
              "    .dataframe tbody tr th:only-of-type {\n",
              "        vertical-align: middle;\n",
              "    }\n",
              "\n",
              "    .dataframe tbody tr th {\n",
              "        vertical-align: top;\n",
              "    }\n",
              "\n",
              "    .dataframe thead th {\n",
              "        text-align: right;\n",
              "    }\n",
              "</style>\n",
              "<table border=\"1\" class=\"dataframe\">\n",
              "  <thead>\n",
              "    <tr style=\"text-align: right;\">\n",
              "      <th></th>\n",
              "      <th>title</th>\n",
              "      <th>text</th>\n",
              "      <th>subject</th>\n",
              "      <th>date</th>\n",
              "      <th>cleaned_title</th>\n",
              "      <th>cleaned_text</th>\n",
              "    </tr>\n",
              "  </thead>\n",
              "  <tbody>\n",
              "    <tr>\n",
              "      <th>0</th>\n",
              "      <td>As U.S. budget fight looms, Republicans flip t...</td>\n",
              "      <td>WASHINGTON (Reuters) - The head of a conservat...</td>\n",
              "      <td>politicsNews</td>\n",
              "      <td>December 31, 2017</td>\n",
              "      <td>us budget fight loom republican flip fiscal sc...</td>\n",
              "      <td>head conservative republican faction us congre...</td>\n",
              "    </tr>\n",
              "    <tr>\n",
              "      <th>1</th>\n",
              "      <td>U.S. military to accept transgender recruits o...</td>\n",
              "      <td>WASHINGTON (Reuters) - Transgender people will...</td>\n",
              "      <td>politicsNews</td>\n",
              "      <td>December 29, 2017</td>\n",
              "      <td>us military accept transgender recruit monday ...</td>\n",
              "      <td>transgender people allow time enlist us milita...</td>\n",
              "    </tr>\n",
              "    <tr>\n",
              "      <th>2</th>\n",
              "      <td>Senior U.S. Republican senator: 'Let Mr. Muell...</td>\n",
              "      <td>WASHINGTON (Reuters) - The special counsel inv...</td>\n",
              "      <td>politicsNews</td>\n",
              "      <td>December 31, 2017</td>\n",
              "      <td>senior us republican senator let mr mueller job</td>\n",
              "      <td>special counsel investigation link russia pres...</td>\n",
              "    </tr>\n",
              "    <tr>\n",
              "      <th>3</th>\n",
              "      <td>FBI Russia probe helped by Australian diplomat...</td>\n",
              "      <td>WASHINGTON (Reuters) - Trump campaign adviser ...</td>\n",
              "      <td>politicsNews</td>\n",
              "      <td>December 30, 2017</td>\n",
              "      <td>fbi russia probe help australian diplomat tip nyt</td>\n",
              "      <td>trump campaign adviser george papadopoulo tell...</td>\n",
              "    </tr>\n",
              "    <tr>\n",
              "      <th>4</th>\n",
              "      <td>Trump wants Postal Service to charge 'much mor...</td>\n",
              "      <td>SEATTLE/WASHINGTON (Reuters) - President Donal...</td>\n",
              "      <td>politicsNews</td>\n",
              "      <td>December 29, 2017</td>\n",
              "      <td>trump want postal service charge amazon shipment</td>\n",
              "      <td>president donald trump call us postal service ...</td>\n",
              "    </tr>\n",
              "  </tbody>\n",
              "</table>\n",
              "</div>"
            ],
            "text/plain": [
              "                                               title  ...                                       cleaned_text\n",
              "0  As U.S. budget fight looms, Republicans flip t...  ...  head conservative republican faction us congre...\n",
              "1  U.S. military to accept transgender recruits o...  ...  transgender people allow time enlist us milita...\n",
              "2  Senior U.S. Republican senator: 'Let Mr. Muell...  ...  special counsel investigation link russia pres...\n",
              "3  FBI Russia probe helped by Australian diplomat...  ...  trump campaign adviser george papadopoulo tell...\n",
              "4  Trump wants Postal Service to charge 'much mor...  ...  president donald trump call us postal service ...\n",
              "\n",
              "[5 rows x 6 columns]"
            ]
          },
          "metadata": {
            "tags": []
          },
          "execution_count": 80
        }
      ]
    },
    {
      "cell_type": "code",
      "metadata": {
        "colab": {
          "base_uri": "https://localhost:8080/",
          "height": 272
        },
        "id": "6Uhi8ygLL_D9",
        "outputId": "4649bff8-8edf-4fee-c63e-918ee68790a4"
      },
      "source": [
        "# true_df['cleaned'] = true_df['cleaned_title'] + ' ' + true_df['cleaned_text']\n",
        "true_df.head()"
      ],
      "execution_count": null,
      "outputs": [
        {
          "output_type": "execute_result",
          "data": {
            "text/html": [
              "<div>\n",
              "<style scoped>\n",
              "    .dataframe tbody tr th:only-of-type {\n",
              "        vertical-align: middle;\n",
              "    }\n",
              "\n",
              "    .dataframe tbody tr th {\n",
              "        vertical-align: top;\n",
              "    }\n",
              "\n",
              "    .dataframe thead th {\n",
              "        text-align: right;\n",
              "    }\n",
              "</style>\n",
              "<table border=\"1\" class=\"dataframe\">\n",
              "  <thead>\n",
              "    <tr style=\"text-align: right;\">\n",
              "      <th></th>\n",
              "      <th>title</th>\n",
              "      <th>text</th>\n",
              "      <th>subject</th>\n",
              "      <th>date</th>\n",
              "      <th>cleaned_title</th>\n",
              "      <th>cleaned_text</th>\n",
              "      <th>cleaned</th>\n",
              "    </tr>\n",
              "  </thead>\n",
              "  <tbody>\n",
              "    <tr>\n",
              "      <th>0</th>\n",
              "      <td>As U.S. budget fight looms, Republicans flip t...</td>\n",
              "      <td>WASHINGTON (Reuters) - The head of a conservat...</td>\n",
              "      <td>politicsNews</td>\n",
              "      <td>December 31, 2017</td>\n",
              "      <td>us budget fight loom republican flip fiscal sc...</td>\n",
              "      <td>head conservative republican faction us congre...</td>\n",
              "      <td>us budget fight loom republican flip fiscal sc...</td>\n",
              "    </tr>\n",
              "    <tr>\n",
              "      <th>1</th>\n",
              "      <td>U.S. military to accept transgender recruits o...</td>\n",
              "      <td>WASHINGTON (Reuters) - Transgender people will...</td>\n",
              "      <td>politicsNews</td>\n",
              "      <td>December 29, 2017</td>\n",
              "      <td>us military accept transgender recruit monday ...</td>\n",
              "      <td>transgender people allow time enlist us milita...</td>\n",
              "      <td>us military accept transgender recruit monday ...</td>\n",
              "    </tr>\n",
              "    <tr>\n",
              "      <th>2</th>\n",
              "      <td>Senior U.S. Republican senator: 'Let Mr. Muell...</td>\n",
              "      <td>WASHINGTON (Reuters) - The special counsel inv...</td>\n",
              "      <td>politicsNews</td>\n",
              "      <td>December 31, 2017</td>\n",
              "      <td>senior us republican senator let mr mueller job</td>\n",
              "      <td>special counsel investigation link russia pres...</td>\n",
              "      <td>senior us republican senator let mr mueller jo...</td>\n",
              "    </tr>\n",
              "    <tr>\n",
              "      <th>3</th>\n",
              "      <td>FBI Russia probe helped by Australian diplomat...</td>\n",
              "      <td>WASHINGTON (Reuters) - Trump campaign adviser ...</td>\n",
              "      <td>politicsNews</td>\n",
              "      <td>December 30, 2017</td>\n",
              "      <td>fbi russia probe help australian diplomat tip nyt</td>\n",
              "      <td>trump campaign adviser george papadopoulo tell...</td>\n",
              "      <td>fbi russia probe help australian diplomat tip ...</td>\n",
              "    </tr>\n",
              "    <tr>\n",
              "      <th>4</th>\n",
              "      <td>Trump wants Postal Service to charge 'much mor...</td>\n",
              "      <td>SEATTLE/WASHINGTON (Reuters) - President Donal...</td>\n",
              "      <td>politicsNews</td>\n",
              "      <td>December 29, 2017</td>\n",
              "      <td>trump want postal service charge amazon shipment</td>\n",
              "      <td>president donald trump call us postal service ...</td>\n",
              "      <td>trump want postal service charge amazon shipme...</td>\n",
              "    </tr>\n",
              "  </tbody>\n",
              "</table>\n",
              "</div>"
            ],
            "text/plain": [
              "                                               title  ...                                            cleaned\n",
              "0  As U.S. budget fight looms, Republicans flip t...  ...  us budget fight loom republican flip fiscal sc...\n",
              "1  U.S. military to accept transgender recruits o...  ...  us military accept transgender recruit monday ...\n",
              "2  Senior U.S. Republican senator: 'Let Mr. Muell...  ...  senior us republican senator let mr mueller jo...\n",
              "3  FBI Russia probe helped by Australian diplomat...  ...  fbi russia probe help australian diplomat tip ...\n",
              "4  Trump wants Postal Service to charge 'much mor...  ...  trump want postal service charge amazon shipme...\n",
              "\n",
              "[5 rows x 7 columns]"
            ]
          },
          "metadata": {
            "tags": []
          },
          "execution_count": 81
        }
      ]
    },
    {
      "cell_type": "code",
      "metadata": {
        "id": "XVl69Lzsb_FO"
      },
      "source": [
        "true_df.to_csv(drive_directory + dataset + 'cleaned_true_v2.csv', index=None)"
      ],
      "execution_count": null,
      "outputs": []
    },
    {
      "cell_type": "code",
      "metadata": {
        "id": "PSpcEfHqVfiI",
        "colab": {
          "base_uri": "https://localhost:8080/"
        },
        "outputId": "eea20197-64e5-4378-80e2-222177eac9e4"
      },
      "source": [
        "# APPLYING PRE-PROCESSOR ON FAKE.CSV 'TITLE'\n",
        "start = time.time()\n",
        "# fake_df['cleaned_title'] = fake_df['title'].apply(lambda x: text_preprocessor(x, type=\"fake_title\"))\n",
        "end = time.time()\n",
        "print(end-start)"
      ],
      "execution_count": null,
      "outputs": [
        {
          "output_type": "stream",
          "text": [
            "215.2145049571991\n"
          ],
          "name": "stdout"
        }
      ]
    },
    {
      "cell_type": "code",
      "metadata": {
        "colab": {
          "base_uri": "https://localhost:8080/",
          "height": 191
        },
        "id": "5ZlGChdmPQst",
        "outputId": "17bcdaa2-4101-46ea-830c-76ee09d3f374"
      },
      "source": [
        "fake_df.head()"
      ],
      "execution_count": null,
      "outputs": [
        {
          "output_type": "execute_result",
          "data": {
            "text/html": [
              "<div>\n",
              "<style scoped>\n",
              "    .dataframe tbody tr th:only-of-type {\n",
              "        vertical-align: middle;\n",
              "    }\n",
              "\n",
              "    .dataframe tbody tr th {\n",
              "        vertical-align: top;\n",
              "    }\n",
              "\n",
              "    .dataframe thead th {\n",
              "        text-align: right;\n",
              "    }\n",
              "</style>\n",
              "<table border=\"1\" class=\"dataframe\">\n",
              "  <thead>\n",
              "    <tr style=\"text-align: right;\">\n",
              "      <th></th>\n",
              "      <th>title</th>\n",
              "      <th>text</th>\n",
              "      <th>subject</th>\n",
              "      <th>date</th>\n",
              "      <th>cleaned_title</th>\n",
              "    </tr>\n",
              "  </thead>\n",
              "  <tbody>\n",
              "    <tr>\n",
              "      <th>0</th>\n",
              "      <td>Donald Trump Sends Out Embarrassing New Year’...</td>\n",
              "      <td>Donald Trump just couldn t wish all Americans ...</td>\n",
              "      <td>News</td>\n",
              "      <td>December 31, 2017</td>\n",
              "      <td>donald trump send embarrassing new year eve me...</td>\n",
              "    </tr>\n",
              "    <tr>\n",
              "      <th>1</th>\n",
              "      <td>Drunk Bragging Trump Staffer Started Russian ...</td>\n",
              "      <td>House Intelligence Committee Chairman Devin Nu...</td>\n",
              "      <td>News</td>\n",
              "      <td>December 31, 2017</td>\n",
              "      <td>drunk bragging trump staffer start russian col...</td>\n",
              "    </tr>\n",
              "    <tr>\n",
              "      <th>2</th>\n",
              "      <td>Sheriff David Clarke Becomes An Internet Joke...</td>\n",
              "      <td>On Friday, it was revealed that former Milwauk...</td>\n",
              "      <td>News</td>\n",
              "      <td>December 30, 2017</td>\n",
              "      <td>sheriff david clarke internet joke threaten po...</td>\n",
              "    </tr>\n",
              "    <tr>\n",
              "      <th>3</th>\n",
              "      <td>Trump Is So Obsessed He Even Has Obama’s Name...</td>\n",
              "      <td>On Christmas day, Donald Trump announced that ...</td>\n",
              "      <td>News</td>\n",
              "      <td>December 29, 2017</td>\n",
              "      <td>trump obsessed obama code website</td>\n",
              "    </tr>\n",
              "    <tr>\n",
              "      <th>4</th>\n",
              "      <td>Pope Francis Just Called Out Donald Trump Dur...</td>\n",
              "      <td>Pope Francis used his annual Christmas Day mes...</td>\n",
              "      <td>News</td>\n",
              "      <td>December 25, 2017</td>\n",
              "      <td>pope francis call donald trump christmas speech</td>\n",
              "    </tr>\n",
              "  </tbody>\n",
              "</table>\n",
              "</div>"
            ],
            "text/plain": [
              "                                               title  ...                                      cleaned_title\n",
              "0   Donald Trump Sends Out Embarrassing New Year’...  ...  donald trump send embarrassing new year eve me...\n",
              "1   Drunk Bragging Trump Staffer Started Russian ...  ...  drunk bragging trump staffer start russian col...\n",
              "2   Sheriff David Clarke Becomes An Internet Joke...  ...  sheriff david clarke internet joke threaten po...\n",
              "3   Trump Is So Obsessed He Even Has Obama’s Name...  ...                  trump obsessed obama code website\n",
              "4   Pope Francis Just Called Out Donald Trump Dur...  ...    pope francis call donald trump christmas speech\n",
              "\n",
              "[5 rows x 5 columns]"
            ]
          },
          "metadata": {
            "tags": []
          },
          "execution_count": 84
        }
      ]
    },
    {
      "cell_type": "code",
      "metadata": {
        "colab": {
          "base_uri": "https://localhost:8080/"
        },
        "id": "Hr2AWglyNn5W",
        "outputId": "1fa18ca7-7585-407e-a749-7908b109d4fa"
      },
      "source": [
        "fake_df.isnull().sum()"
      ],
      "execution_count": null,
      "outputs": [
        {
          "output_type": "execute_result",
          "data": {
            "text/plain": [
              "title            0\n",
              "text             0\n",
              "subject          0\n",
              "date             0\n",
              "cleaned_title    0\n",
              "dtype: int64"
            ]
          },
          "metadata": {
            "tags": []
          },
          "execution_count": 85
        }
      ]
    },
    {
      "cell_type": "code",
      "metadata": {
        "colab": {
          "base_uri": "https://localhost:8080/",
          "height": 306
        },
        "id": "vgfDtZ-vNviC",
        "outputId": "232cd1d7-3598-43d8-cd7d-ab3dc2dca0ab"
      },
      "source": [
        "# ROWS THAT RETURNED EMPTY CLEANED_TITLE\n",
        "fake_df[fake_df['cleaned_title'] == \"\"]"
      ],
      "execution_count": null,
      "outputs": [
        {
          "output_type": "execute_result",
          "data": {
            "text/html": [
              "<div>\n",
              "<style scoped>\n",
              "    .dataframe tbody tr th:only-of-type {\n",
              "        vertical-align: middle;\n",
              "    }\n",
              "\n",
              "    .dataframe tbody tr th {\n",
              "        vertical-align: top;\n",
              "    }\n",
              "\n",
              "    .dataframe thead th {\n",
              "        text-align: right;\n",
              "    }\n",
              "</style>\n",
              "<table border=\"1\" class=\"dataframe\">\n",
              "  <thead>\n",
              "    <tr style=\"text-align: right;\">\n",
              "      <th></th>\n",
              "      <th>title</th>\n",
              "      <th>text</th>\n",
              "      <th>subject</th>\n",
              "      <th>date</th>\n",
              "      <th>cleaned_title</th>\n",
              "    </tr>\n",
              "  </thead>\n",
              "  <tbody>\n",
              "    <tr>\n",
              "      <th>9358</th>\n",
              "      <td>https://100percentfedup.com/served-roy-moore-v...</td>\n",
              "      <td>https://100percentfedup.com/served-roy-moore-v...</td>\n",
              "      <td>politics</td>\n",
              "      <td>https://100percentfedup.com/served-roy-moore-v...</td>\n",
              "      <td></td>\n",
              "    </tr>\n",
              "    <tr>\n",
              "      <th>15507</th>\n",
              "      <td>https://100percentfedup.com/video-hillary-aske...</td>\n",
              "      <td>https://100percentfedup.com/video-hillary-aske...</td>\n",
              "      <td>politics</td>\n",
              "      <td>https://100percentfedup.com/video-hillary-aske...</td>\n",
              "      <td></td>\n",
              "    </tr>\n",
              "    <tr>\n",
              "      <th>15508</th>\n",
              "      <td>https://100percentfedup.com/12-yr-old-black-co...</td>\n",
              "      <td>https://100percentfedup.com/12-yr-old-black-co...</td>\n",
              "      <td>politics</td>\n",
              "      <td>https://100percentfedup.com/12-yr-old-black-co...</td>\n",
              "      <td></td>\n",
              "    </tr>\n",
              "    <tr>\n",
              "      <th>15839</th>\n",
              "      <td>https://fedup.wpengine.com/wp-content/uploads/...</td>\n",
              "      <td>https://fedup.wpengine.com/wp-content/uploads/...</td>\n",
              "      <td>politics</td>\n",
              "      <td>https://fedup.wpengine.com/wp-content/uploads/...</td>\n",
              "      <td></td>\n",
              "    </tr>\n",
              "    <tr>\n",
              "      <th>15840</th>\n",
              "      <td>https://fedup.wpengine.com/wp-content/uploads/...</td>\n",
              "      <td>https://fedup.wpengine.com/wp-content/uploads/...</td>\n",
              "      <td>politics</td>\n",
              "      <td>https://fedup.wpengine.com/wp-content/uploads/...</td>\n",
              "      <td></td>\n",
              "    </tr>\n",
              "    <tr>\n",
              "      <th>17432</th>\n",
              "      <td>https://fedup.wpengine.com/wp-content/uploads/...</td>\n",
              "      <td>https://fedup.wpengine.com/wp-content/uploads/...</td>\n",
              "      <td>Government News</td>\n",
              "      <td>https://fedup.wpengine.com/wp-content/uploads/...</td>\n",
              "      <td></td>\n",
              "    </tr>\n",
              "    <tr>\n",
              "      <th>17433</th>\n",
              "      <td>https://fedup.wpengine.com/wp-content/uploads/...</td>\n",
              "      <td>https://fedup.wpengine.com/wp-content/uploads/...</td>\n",
              "      <td>Government News</td>\n",
              "      <td>https://fedup.wpengine.com/wp-content/uploads/...</td>\n",
              "      <td></td>\n",
              "    </tr>\n",
              "    <tr>\n",
              "      <th>21869</th>\n",
              "      <td>https://fedup.wpengine.com/wp-content/uploads/...</td>\n",
              "      <td>https://fedup.wpengine.com/wp-content/uploads/...</td>\n",
              "      <td>left-news</td>\n",
              "      <td>https://fedup.wpengine.com/wp-content/uploads/...</td>\n",
              "      <td></td>\n",
              "    </tr>\n",
              "    <tr>\n",
              "      <th>21870</th>\n",
              "      <td>https://fedup.wpengine.com/wp-content/uploads/...</td>\n",
              "      <td>https://fedup.wpengine.com/wp-content/uploads/...</td>\n",
              "      <td>left-news</td>\n",
              "      <td>https://fedup.wpengine.com/wp-content/uploads/...</td>\n",
              "      <td></td>\n",
              "    </tr>\n",
              "  </tbody>\n",
              "</table>\n",
              "</div>"
            ],
            "text/plain": [
              "                                                   title  ... cleaned_title\n",
              "9358   https://100percentfedup.com/served-roy-moore-v...  ...              \n",
              "15507  https://100percentfedup.com/video-hillary-aske...  ...              \n",
              "15508  https://100percentfedup.com/12-yr-old-black-co...  ...              \n",
              "15839  https://fedup.wpengine.com/wp-content/uploads/...  ...              \n",
              "15840  https://fedup.wpengine.com/wp-content/uploads/...  ...              \n",
              "17432  https://fedup.wpengine.com/wp-content/uploads/...  ...              \n",
              "17433  https://fedup.wpengine.com/wp-content/uploads/...  ...              \n",
              "21869  https://fedup.wpengine.com/wp-content/uploads/...  ...              \n",
              "21870  https://fedup.wpengine.com/wp-content/uploads/...  ...              \n",
              "\n",
              "[9 rows x 5 columns]"
            ]
          },
          "metadata": {
            "tags": []
          },
          "execution_count": 86
        }
      ]
    },
    {
      "cell_type": "code",
      "metadata": {
        "colab": {
          "base_uri": "https://localhost:8080/"
        },
        "id": "MDW1tIFGPVub",
        "outputId": "a72e1dc6-4570-44e6-c968-7566038a10bc"
      },
      "source": [
        "# APPLYING PRE-PROCESSOR ON FAKE.CSV 'TEXT'\n",
        "start = time.time()\n",
        "# fake_df['cleaned_text'] = fake_df['text'].apply(lambda x: text_preprocessor(x, type=\"fake_text\"))\n",
        "end = time.time()\n",
        "print(end-start)"
      ],
      "execution_count": null,
      "outputs": [
        {
          "output_type": "stream",
          "text": [
            "1726.2085564136505\n"
          ],
          "name": "stdout"
        }
      ]
    },
    {
      "cell_type": "code",
      "metadata": {
        "colab": {
          "base_uri": "https://localhost:8080/",
          "height": 191
        },
        "id": "xhy69T5TCSf-",
        "outputId": "035503b6-d554-42a8-aa79-73716b94cd7d"
      },
      "source": [
        "fake_df.head()"
      ],
      "execution_count": null,
      "outputs": [
        {
          "output_type": "execute_result",
          "data": {
            "text/html": [
              "<div>\n",
              "<style scoped>\n",
              "    .dataframe tbody tr th:only-of-type {\n",
              "        vertical-align: middle;\n",
              "    }\n",
              "\n",
              "    .dataframe tbody tr th {\n",
              "        vertical-align: top;\n",
              "    }\n",
              "\n",
              "    .dataframe thead th {\n",
              "        text-align: right;\n",
              "    }\n",
              "</style>\n",
              "<table border=\"1\" class=\"dataframe\">\n",
              "  <thead>\n",
              "    <tr style=\"text-align: right;\">\n",
              "      <th></th>\n",
              "      <th>title</th>\n",
              "      <th>text</th>\n",
              "      <th>subject</th>\n",
              "      <th>date</th>\n",
              "      <th>cleaned_title</th>\n",
              "      <th>cleaned_text</th>\n",
              "    </tr>\n",
              "  </thead>\n",
              "  <tbody>\n",
              "    <tr>\n",
              "      <th>0</th>\n",
              "      <td>Donald Trump Sends Out Embarrassing New Year’...</td>\n",
              "      <td>Donald Trump just couldn t wish all Americans ...</td>\n",
              "      <td>News</td>\n",
              "      <td>December 31, 2017</td>\n",
              "      <td>donald trump send embarrassing new year eve me...</td>\n",
              "      <td>donald trump couldn wish american happy new ye...</td>\n",
              "    </tr>\n",
              "    <tr>\n",
              "      <th>1</th>\n",
              "      <td>Drunk Bragging Trump Staffer Started Russian ...</td>\n",
              "      <td>House Intelligence Committee Chairman Devin Nu...</td>\n",
              "      <td>News</td>\n",
              "      <td>December 31, 2017</td>\n",
              "      <td>drunk bragging trump staffer start russian col...</td>\n",
              "      <td>house intelligence committee chairman devin nu...</td>\n",
              "    </tr>\n",
              "    <tr>\n",
              "      <th>2</th>\n",
              "      <td>Sheriff David Clarke Becomes An Internet Joke...</td>\n",
              "      <td>On Friday, it was revealed that former Milwauk...</td>\n",
              "      <td>News</td>\n",
              "      <td>December 30, 2017</td>\n",
              "      <td>sheriff david clarke internet joke threaten po...</td>\n",
              "      <td>friday reveal milwaukee sheriff david clarke c...</td>\n",
              "    </tr>\n",
              "    <tr>\n",
              "      <th>3</th>\n",
              "      <td>Trump Is So Obsessed He Even Has Obama’s Name...</td>\n",
              "      <td>On Christmas day, Donald Trump announced that ...</td>\n",
              "      <td>News</td>\n",
              "      <td>December 29, 2017</td>\n",
              "      <td>trump obsessed obama code website</td>\n",
              "      <td>christmas day donald trump announce work follo...</td>\n",
              "    </tr>\n",
              "    <tr>\n",
              "      <th>4</th>\n",
              "      <td>Pope Francis Just Called Out Donald Trump Dur...</td>\n",
              "      <td>Pope Francis used his annual Christmas Day mes...</td>\n",
              "      <td>News</td>\n",
              "      <td>December 25, 2017</td>\n",
              "      <td>pope francis call donald trump christmas speech</td>\n",
              "      <td>pope francis annual christmas day message rebu...</td>\n",
              "    </tr>\n",
              "  </tbody>\n",
              "</table>\n",
              "</div>"
            ],
            "text/plain": [
              "                                               title  ...                                       cleaned_text\n",
              "0   Donald Trump Sends Out Embarrassing New Year’...  ...  donald trump couldn wish american happy new ye...\n",
              "1   Drunk Bragging Trump Staffer Started Russian ...  ...  house intelligence committee chairman devin nu...\n",
              "2   Sheriff David Clarke Becomes An Internet Joke...  ...  friday reveal milwaukee sheriff david clarke c...\n",
              "3   Trump Is So Obsessed He Even Has Obama’s Name...  ...  christmas day donald trump announce work follo...\n",
              "4   Pope Francis Just Called Out Donald Trump Dur...  ...  pope francis annual christmas day message rebu...\n",
              "\n",
              "[5 rows x 6 columns]"
            ]
          },
          "metadata": {
            "tags": []
          },
          "execution_count": 88
        }
      ]
    },
    {
      "cell_type": "code",
      "metadata": {
        "colab": {
          "base_uri": "https://localhost:8080/",
          "height": 272
        },
        "id": "AWeFzvs3XDa5",
        "outputId": "77fd5076-4fdd-4bb9-acb7-4ea67ad0ff5e"
      },
      "source": [
        "# fake_df['cleaned'] = fake_df['cleaned_title'] + ' ' + fake_df['cleaned_text']\n",
        "# fake_df.head()"
      ],
      "execution_count": null,
      "outputs": [
        {
          "output_type": "execute_result",
          "data": {
            "text/html": [
              "<div>\n",
              "<style scoped>\n",
              "    .dataframe tbody tr th:only-of-type {\n",
              "        vertical-align: middle;\n",
              "    }\n",
              "\n",
              "    .dataframe tbody tr th {\n",
              "        vertical-align: top;\n",
              "    }\n",
              "\n",
              "    .dataframe thead th {\n",
              "        text-align: right;\n",
              "    }\n",
              "</style>\n",
              "<table border=\"1\" class=\"dataframe\">\n",
              "  <thead>\n",
              "    <tr style=\"text-align: right;\">\n",
              "      <th></th>\n",
              "      <th>title</th>\n",
              "      <th>text</th>\n",
              "      <th>subject</th>\n",
              "      <th>date</th>\n",
              "      <th>cleaned_title</th>\n",
              "      <th>cleaned_text</th>\n",
              "      <th>cleaned</th>\n",
              "    </tr>\n",
              "  </thead>\n",
              "  <tbody>\n",
              "    <tr>\n",
              "      <th>0</th>\n",
              "      <td>Donald Trump Sends Out Embarrassing New Year’...</td>\n",
              "      <td>Donald Trump just couldn t wish all Americans ...</td>\n",
              "      <td>News</td>\n",
              "      <td>December 31, 2017</td>\n",
              "      <td>donald trump send embarrassing new year eve me...</td>\n",
              "      <td>donald trump couldn wish american happy new ye...</td>\n",
              "      <td>donald trump send embarrassing new year eve me...</td>\n",
              "    </tr>\n",
              "    <tr>\n",
              "      <th>1</th>\n",
              "      <td>Drunk Bragging Trump Staffer Started Russian ...</td>\n",
              "      <td>House Intelligence Committee Chairman Devin Nu...</td>\n",
              "      <td>News</td>\n",
              "      <td>December 31, 2017</td>\n",
              "      <td>drunk bragging trump staffer start russian col...</td>\n",
              "      <td>house intelligence committee chairman devin nu...</td>\n",
              "      <td>drunk bragging trump staffer start russian col...</td>\n",
              "    </tr>\n",
              "    <tr>\n",
              "      <th>2</th>\n",
              "      <td>Sheriff David Clarke Becomes An Internet Joke...</td>\n",
              "      <td>On Friday, it was revealed that former Milwauk...</td>\n",
              "      <td>News</td>\n",
              "      <td>December 30, 2017</td>\n",
              "      <td>sheriff david clarke internet joke threaten po...</td>\n",
              "      <td>friday reveal milwaukee sheriff david clarke c...</td>\n",
              "      <td>sheriff david clarke internet joke threaten po...</td>\n",
              "    </tr>\n",
              "    <tr>\n",
              "      <th>3</th>\n",
              "      <td>Trump Is So Obsessed He Even Has Obama’s Name...</td>\n",
              "      <td>On Christmas day, Donald Trump announced that ...</td>\n",
              "      <td>News</td>\n",
              "      <td>December 29, 2017</td>\n",
              "      <td>trump obsessed obama code website</td>\n",
              "      <td>christmas day donald trump announce work follo...</td>\n",
              "      <td>trump obsessed obama code website christmas da...</td>\n",
              "    </tr>\n",
              "    <tr>\n",
              "      <th>4</th>\n",
              "      <td>Pope Francis Just Called Out Donald Trump Dur...</td>\n",
              "      <td>Pope Francis used his annual Christmas Day mes...</td>\n",
              "      <td>News</td>\n",
              "      <td>December 25, 2017</td>\n",
              "      <td>pope francis call donald trump christmas speech</td>\n",
              "      <td>pope francis annual christmas day message rebu...</td>\n",
              "      <td>pope francis call donald trump christmas speec...</td>\n",
              "    </tr>\n",
              "  </tbody>\n",
              "</table>\n",
              "</div>"
            ],
            "text/plain": [
              "                                               title  ...                                            cleaned\n",
              "0   Donald Trump Sends Out Embarrassing New Year’...  ...  donald trump send embarrassing new year eve me...\n",
              "1   Drunk Bragging Trump Staffer Started Russian ...  ...  drunk bragging trump staffer start russian col...\n",
              "2   Sheriff David Clarke Becomes An Internet Joke...  ...  sheriff david clarke internet joke threaten po...\n",
              "3   Trump Is So Obsessed He Even Has Obama’s Name...  ...  trump obsessed obama code website christmas da...\n",
              "4   Pope Francis Just Called Out Donald Trump Dur...  ...  pope francis call donald trump christmas speec...\n",
              "\n",
              "[5 rows x 7 columns]"
            ]
          },
          "metadata": {
            "tags": []
          },
          "execution_count": 89
        }
      ]
    },
    {
      "cell_type": "code",
      "metadata": {
        "id": "g6MpR8_mEzDZ"
      },
      "source": [
        "fake_df.to_csv(drive_directory + dataset + 'cleaned_fake_v2.csv', index=None)"
      ],
      "execution_count": null,
      "outputs": []
    },
    {
      "cell_type": "code",
      "metadata": {
        "id": "R1o3y_BHMLkN"
      },
      "source": [
        "# COMBINING BOTH TRUE AND FAKE DATASETS\n",
        "true_df['label']=1\n",
        "fake_df['label']=0\n",
        "\n",
        "data = pd.concat([true_df, fake_df], axis=0)"
      ],
      "execution_count": null,
      "outputs": []
    },
    {
      "cell_type": "code",
      "metadata": {
        "colab": {
          "base_uri": "https://localhost:8080/",
          "height": 553
        },
        "id": "uwGMRf0BZAMZ",
        "outputId": "91e3c4b7-6efb-4604-c579-9771a52c3339"
      },
      "source": [
        "data"
      ],
      "execution_count": null,
      "outputs": [
        {
          "output_type": "execute_result",
          "data": {
            "text/html": [
              "<div>\n",
              "<style scoped>\n",
              "    .dataframe tbody tr th:only-of-type {\n",
              "        vertical-align: middle;\n",
              "    }\n",
              "\n",
              "    .dataframe tbody tr th {\n",
              "        vertical-align: top;\n",
              "    }\n",
              "\n",
              "    .dataframe thead th {\n",
              "        text-align: right;\n",
              "    }\n",
              "</style>\n",
              "<table border=\"1\" class=\"dataframe\">\n",
              "  <thead>\n",
              "    <tr style=\"text-align: right;\">\n",
              "      <th></th>\n",
              "      <th>title</th>\n",
              "      <th>text</th>\n",
              "      <th>subject</th>\n",
              "      <th>date</th>\n",
              "      <th>cleaned_title</th>\n",
              "      <th>cleaned_text</th>\n",
              "      <th>cleaned</th>\n",
              "      <th>label</th>\n",
              "    </tr>\n",
              "  </thead>\n",
              "  <tbody>\n",
              "    <tr>\n",
              "      <th>0</th>\n",
              "      <td>As U.S. budget fight looms, Republicans flip t...</td>\n",
              "      <td>WASHINGTON (Reuters) - The head of a conservat...</td>\n",
              "      <td>politicsNews</td>\n",
              "      <td>December 31, 2017</td>\n",
              "      <td>us budget fight loom republican flip fiscal sc...</td>\n",
              "      <td>head conservative republican faction us congre...</td>\n",
              "      <td>us budget fight loom republican flip fiscal sc...</td>\n",
              "      <td>1</td>\n",
              "    </tr>\n",
              "    <tr>\n",
              "      <th>1</th>\n",
              "      <td>U.S. military to accept transgender recruits o...</td>\n",
              "      <td>WASHINGTON (Reuters) - Transgender people will...</td>\n",
              "      <td>politicsNews</td>\n",
              "      <td>December 29, 2017</td>\n",
              "      <td>us military accept transgender recruit monday ...</td>\n",
              "      <td>transgender people allow time enlist us milita...</td>\n",
              "      <td>us military accept transgender recruit monday ...</td>\n",
              "      <td>1</td>\n",
              "    </tr>\n",
              "    <tr>\n",
              "      <th>2</th>\n",
              "      <td>Senior U.S. Republican senator: 'Let Mr. Muell...</td>\n",
              "      <td>WASHINGTON (Reuters) - The special counsel inv...</td>\n",
              "      <td>politicsNews</td>\n",
              "      <td>December 31, 2017</td>\n",
              "      <td>senior us republican senator let mr mueller job</td>\n",
              "      <td>special counsel investigation link russia pres...</td>\n",
              "      <td>senior us republican senator let mr mueller jo...</td>\n",
              "      <td>1</td>\n",
              "    </tr>\n",
              "    <tr>\n",
              "      <th>3</th>\n",
              "      <td>FBI Russia probe helped by Australian diplomat...</td>\n",
              "      <td>WASHINGTON (Reuters) - Trump campaign adviser ...</td>\n",
              "      <td>politicsNews</td>\n",
              "      <td>December 30, 2017</td>\n",
              "      <td>fbi russia probe help australian diplomat tip nyt</td>\n",
              "      <td>trump campaign adviser george papadopoulo tell...</td>\n",
              "      <td>fbi russia probe help australian diplomat tip ...</td>\n",
              "      <td>1</td>\n",
              "    </tr>\n",
              "    <tr>\n",
              "      <th>4</th>\n",
              "      <td>Trump wants Postal Service to charge 'much mor...</td>\n",
              "      <td>SEATTLE/WASHINGTON (Reuters) - President Donal...</td>\n",
              "      <td>politicsNews</td>\n",
              "      <td>December 29, 2017</td>\n",
              "      <td>trump want postal service charge amazon shipment</td>\n",
              "      <td>president donald trump call us postal service ...</td>\n",
              "      <td>trump want postal service charge amazon shipme...</td>\n",
              "      <td>1</td>\n",
              "    </tr>\n",
              "    <tr>\n",
              "      <th>...</th>\n",
              "      <td>...</td>\n",
              "      <td>...</td>\n",
              "      <td>...</td>\n",
              "      <td>...</td>\n",
              "      <td>...</td>\n",
              "      <td>...</td>\n",
              "      <td>...</td>\n",
              "      <td>...</td>\n",
              "    </tr>\n",
              "    <tr>\n",
              "      <th>23476</th>\n",
              "      <td>McPain: John McCain Furious That Iran Treated ...</td>\n",
              "      <td>21st Century Wire says As 21WIRE reported earl...</td>\n",
              "      <td>Middle-east</td>\n",
              "      <td>January 16, 2016</td>\n",
              "      <td>mcpain john mccain furious iran treat sailor</td>\n",
              "      <td>st century wire say wire report early week unl...</td>\n",
              "      <td>mcpain john mccain furious iran treat sailor s...</td>\n",
              "      <td>0</td>\n",
              "    </tr>\n",
              "    <tr>\n",
              "      <th>23477</th>\n",
              "      <td>JUSTICE? Yahoo Settles E-mail Privacy Class-ac...</td>\n",
              "      <td>21st Century Wire says It s a familiar theme. ...</td>\n",
              "      <td>Middle-east</td>\n",
              "      <td>January 16, 2016</td>\n",
              "      <td>justice yahoo settle mail privacy class action...</td>\n",
              "      <td>st century wire say familiar theme dispute cha...</td>\n",
              "      <td>justice yahoo settle mail privacy class action...</td>\n",
              "      <td>0</td>\n",
              "    </tr>\n",
              "    <tr>\n",
              "      <th>23478</th>\n",
              "      <td>Sunnistan: US and Allied ‘Safe Zone’ Plan to T...</td>\n",
              "      <td>Patrick Henningsen  21st Century WireRemember ...</td>\n",
              "      <td>Middle-east</td>\n",
              "      <td>January 15, 2016</td>\n",
              "      <td>sunnistan ally safe zone plan territorial boot...</td>\n",
              "      <td>patrick henningsen st century wireremember oba...</td>\n",
              "      <td>sunnistan ally safe zone plan territorial boot...</td>\n",
              "      <td>0</td>\n",
              "    </tr>\n",
              "    <tr>\n",
              "      <th>23479</th>\n",
              "      <td>How to Blow $700 Million: Al Jazeera America F...</td>\n",
              "      <td>21st Century Wire says Al Jazeera America will...</td>\n",
              "      <td>Middle-east</td>\n",
              "      <td>January 14, 2016</td>\n",
              "      <td>blow million al jazeera america finally call quit</td>\n",
              "      <td>st century wire say al jazeera america history...</td>\n",
              "      <td>blow million al jazeera america finally call q...</td>\n",
              "      <td>0</td>\n",
              "    </tr>\n",
              "    <tr>\n",
              "      <th>23480</th>\n",
              "      <td>10 U.S. Navy Sailors Held by Iranian Military ...</td>\n",
              "      <td>21st Century Wire says As 21WIRE predicted in ...</td>\n",
              "      <td>Middle-east</td>\n",
              "      <td>January 12, 2016</td>\n",
              "      <td>us navy sailor hold iranian military sign neoc...</td>\n",
              "      <td>st century wire say wire predict new year look...</td>\n",
              "      <td>us navy sailor hold iranian military sign neoc...</td>\n",
              "      <td>0</td>\n",
              "    </tr>\n",
              "  </tbody>\n",
              "</table>\n",
              "<p>44898 rows × 8 columns</p>\n",
              "</div>"
            ],
            "text/plain": [
              "                                                   title  ... label\n",
              "0      As U.S. budget fight looms, Republicans flip t...  ...     1\n",
              "1      U.S. military to accept transgender recruits o...  ...     1\n",
              "2      Senior U.S. Republican senator: 'Let Mr. Muell...  ...     1\n",
              "3      FBI Russia probe helped by Australian diplomat...  ...     1\n",
              "4      Trump wants Postal Service to charge 'much mor...  ...     1\n",
              "...                                                  ...  ...   ...\n",
              "23476  McPain: John McCain Furious That Iran Treated ...  ...     0\n",
              "23477  JUSTICE? Yahoo Settles E-mail Privacy Class-ac...  ...     0\n",
              "23478  Sunnistan: US and Allied ‘Safe Zone’ Plan to T...  ...     0\n",
              "23479  How to Blow $700 Million: Al Jazeera America F...  ...     0\n",
              "23480  10 U.S. Navy Sailors Held by Iranian Military ...  ...     0\n",
              "\n",
              "[44898 rows x 8 columns]"
            ]
          },
          "metadata": {
            "tags": []
          },
          "execution_count": 92
        }
      ]
    },
    {
      "cell_type": "code",
      "metadata": {
        "id": "WLD1ayiHZA69"
      },
      "source": [
        "# data.to_csv(drive_directory + dataset + 'data_v2.csv', index=None)"
      ],
      "execution_count": null,
      "outputs": []
    },
    {
      "cell_type": "code",
      "metadata": {
        "colab": {
          "base_uri": "https://localhost:8080/",
          "height": 553
        },
        "id": "82agfpQEZGFO",
        "outputId": "53c29ccb-eec6-4a3d-cc2c-aa1dd597c3e8"
      },
      "source": [
        "data"
      ],
      "execution_count": null,
      "outputs": [
        {
          "output_type": "execute_result",
          "data": {
            "text/html": [
              "<div>\n",
              "<style scoped>\n",
              "    .dataframe tbody tr th:only-of-type {\n",
              "        vertical-align: middle;\n",
              "    }\n",
              "\n",
              "    .dataframe tbody tr th {\n",
              "        vertical-align: top;\n",
              "    }\n",
              "\n",
              "    .dataframe thead th {\n",
              "        text-align: right;\n",
              "    }\n",
              "</style>\n",
              "<table border=\"1\" class=\"dataframe\">\n",
              "  <thead>\n",
              "    <tr style=\"text-align: right;\">\n",
              "      <th></th>\n",
              "      <th>title</th>\n",
              "      <th>text</th>\n",
              "      <th>subject</th>\n",
              "      <th>date</th>\n",
              "      <th>cleaned_title</th>\n",
              "      <th>cleaned_text</th>\n",
              "      <th>cleaned</th>\n",
              "      <th>label</th>\n",
              "    </tr>\n",
              "  </thead>\n",
              "  <tbody>\n",
              "    <tr>\n",
              "      <th>0</th>\n",
              "      <td>As U.S. budget fight looms, Republicans flip t...</td>\n",
              "      <td>WASHINGTON (Reuters) - The head of a conservat...</td>\n",
              "      <td>politicsNews</td>\n",
              "      <td>December 31, 2017</td>\n",
              "      <td>we budget fight loom republican flip fiscal sc...</td>\n",
              "      <td>head conservative republican faction we congre...</td>\n",
              "      <td>we budget fight loom republican flip fiscal sc...</td>\n",
              "      <td>1</td>\n",
              "    </tr>\n",
              "    <tr>\n",
              "      <th>1</th>\n",
              "      <td>U.S. military to accept transgender recruits o...</td>\n",
              "      <td>WASHINGTON (Reuters) - Transgender people will...</td>\n",
              "      <td>politicsNews</td>\n",
              "      <td>December 29, 2017</td>\n",
              "      <td>we military accept transgender recruit monday ...</td>\n",
              "      <td>transgender people allow time enlist we milita...</td>\n",
              "      <td>we military accept transgender recruit monday ...</td>\n",
              "      <td>1</td>\n",
              "    </tr>\n",
              "    <tr>\n",
              "      <th>2</th>\n",
              "      <td>Senior U.S. Republican senator: 'Let Mr. Muell...</td>\n",
              "      <td>WASHINGTON (Reuters) - The special counsel inv...</td>\n",
              "      <td>politicsNews</td>\n",
              "      <td>December 31, 2017</td>\n",
              "      <td>senior we republican senator let mr mueller job</td>\n",
              "      <td>special counsel investigation link russia pres...</td>\n",
              "      <td>senior we republican senator let mr mueller jo...</td>\n",
              "      <td>1</td>\n",
              "    </tr>\n",
              "    <tr>\n",
              "      <th>3</th>\n",
              "      <td>FBI Russia probe helped by Australian diplomat...</td>\n",
              "      <td>WASHINGTON (Reuters) - Trump campaign adviser ...</td>\n",
              "      <td>politicsNews</td>\n",
              "      <td>December 30, 2017</td>\n",
              "      <td>fbi russia probe help australian diplomat tip nyt</td>\n",
              "      <td>trump campaign adviser george papadopoulo tell...</td>\n",
              "      <td>fbi russia probe help australian diplomat tip ...</td>\n",
              "      <td>1</td>\n",
              "    </tr>\n",
              "    <tr>\n",
              "      <th>4</th>\n",
              "      <td>Trump wants Postal Service to charge 'much mor...</td>\n",
              "      <td>SEATTLE/WASHINGTON (Reuters) - President Donal...</td>\n",
              "      <td>politicsNews</td>\n",
              "      <td>December 29, 2017</td>\n",
              "      <td>trump want postal service charge amazon shipment</td>\n",
              "      <td>president donald trump call we postal service ...</td>\n",
              "      <td>trump want postal service charge amazon shipme...</td>\n",
              "      <td>1</td>\n",
              "    </tr>\n",
              "    <tr>\n",
              "      <th>...</th>\n",
              "      <td>...</td>\n",
              "      <td>...</td>\n",
              "      <td>...</td>\n",
              "      <td>...</td>\n",
              "      <td>...</td>\n",
              "      <td>...</td>\n",
              "      <td>...</td>\n",
              "      <td>...</td>\n",
              "    </tr>\n",
              "    <tr>\n",
              "      <th>23476</th>\n",
              "      <td>McPain: John McCain Furious That Iran Treated ...</td>\n",
              "      <td>21st Century Wire says As 21WIRE reported earl...</td>\n",
              "      <td>Middle-east</td>\n",
              "      <td>January 16, 2016</td>\n",
              "      <td>mcpain john mccain furious iran treat we sailor</td>\n",
              "      <td>st century wire say wire report early week unl...</td>\n",
              "      <td>mcpain john mccain furious iran treat we sailo...</td>\n",
              "      <td>0</td>\n",
              "    </tr>\n",
              "    <tr>\n",
              "      <th>23477</th>\n",
              "      <td>JUSTICE? Yahoo Settles E-mail Privacy Class-ac...</td>\n",
              "      <td>21st Century Wire says It s a familiar theme. ...</td>\n",
              "      <td>Middle-east</td>\n",
              "      <td>January 16, 2016</td>\n",
              "      <td>justice yahoo settle e mail privacy class acti...</td>\n",
              "      <td>st century wire say familiar theme dispute cha...</td>\n",
              "      <td>justice yahoo settle e mail privacy class acti...</td>\n",
              "      <td>0</td>\n",
              "    </tr>\n",
              "    <tr>\n",
              "      <th>23478</th>\n",
              "      <td>Sunnistan: US and Allied ‘Safe Zone’ Plan to T...</td>\n",
              "      <td>Patrick Henningsen  21st Century WireRemember ...</td>\n",
              "      <td>Middle-east</td>\n",
              "      <td>January 15, 2016</td>\n",
              "      <td>sunnistan we ally safe zone plan territorial b...</td>\n",
              "      <td>patrick henningsen st century wireremember oba...</td>\n",
              "      <td>sunnistan we ally safe zone plan territorial b...</td>\n",
              "      <td>0</td>\n",
              "    </tr>\n",
              "    <tr>\n",
              "      <th>23479</th>\n",
              "      <td>How to Blow $700 Million: Al Jazeera America F...</td>\n",
              "      <td>21st Century Wire says Al Jazeera America will...</td>\n",
              "      <td>Middle-east</td>\n",
              "      <td>January 14, 2016</td>\n",
              "      <td>blow million al jazeera america finally call quit</td>\n",
              "      <td>st century wire say al jazeera america history...</td>\n",
              "      <td>blow million al jazeera america finally call q...</td>\n",
              "      <td>0</td>\n",
              "    </tr>\n",
              "    <tr>\n",
              "      <th>23480</th>\n",
              "      <td>10 U.S. Navy Sailors Held by Iranian Military ...</td>\n",
              "      <td>21st Century Wire says As 21WIRE predicted in ...</td>\n",
              "      <td>Middle-east</td>\n",
              "      <td>January 12, 2016</td>\n",
              "      <td>we navy sailor hold iranian military sign neoc...</td>\n",
              "      <td>st century wire say wire predict new year look...</td>\n",
              "      <td>we navy sailor hold iranian military sign neoc...</td>\n",
              "      <td>0</td>\n",
              "    </tr>\n",
              "  </tbody>\n",
              "</table>\n",
              "<p>44898 rows × 8 columns</p>\n",
              "</div>"
            ],
            "text/plain": [
              "                                                   title  ... label\n",
              "0      As U.S. budget fight looms, Republicans flip t...  ...     1\n",
              "1      U.S. military to accept transgender recruits o...  ...     1\n",
              "2      Senior U.S. Republican senator: 'Let Mr. Muell...  ...     1\n",
              "3      FBI Russia probe helped by Australian diplomat...  ...     1\n",
              "4      Trump wants Postal Service to charge 'much mor...  ...     1\n",
              "...                                                  ...  ...   ...\n",
              "23476  McPain: John McCain Furious That Iran Treated ...  ...     0\n",
              "23477  JUSTICE? Yahoo Settles E-mail Privacy Class-ac...  ...     0\n",
              "23478  Sunnistan: US and Allied ‘Safe Zone’ Plan to T...  ...     0\n",
              "23479  How to Blow $700 Million: Al Jazeera America F...  ...     0\n",
              "23480  10 U.S. Navy Sailors Held by Iranian Military ...  ...     0\n",
              "\n",
              "[44898 rows x 8 columns]"
            ]
          },
          "metadata": {
            "tags": []
          },
          "execution_count": 143
        }
      ]
    },
    {
      "cell_type": "code",
      "metadata": {
        "id": "LFV1O5CDdKPq"
      },
      "source": [
        ""
      ],
      "execution_count": null,
      "outputs": []
    }
  ]
}